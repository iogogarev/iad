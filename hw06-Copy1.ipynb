{
 "cells": [
  {
   "cell_type": "markdown",
   "metadata": {},
   "source": [
    "# Домашнее задание 6: классификация текстов"
   ]
  },
  {
   "cell_type": "markdown",
   "metadata": {},
   "source": [
    "В этом домашнем задании вам предстоит построить классификатор текстов и поучаствовать в соревновании на Kaggle!\n",
    "Первым делом вам предстоит построить хороший бейзлайн, а дальше пытаться улучшать, соревнуясь с другими участниками.\n",
    "\n",
    "\n",
    "Ссылка на соревнование: https://www.kaggle.com/c/avito-category-prediction/overview\n",
    "Данные для домашнего задания можно скачать на странице соревнования.\n",
    "Чтобы ваше участие было засчитано, убедитесь, что имя в Leaderboard имеет вид: «Имя Фамилия номер_группы».\n",
    "\n",
    "Оценивание:\n",
    "\n",
    "Домашнее задание оценивается как обычно. Баллы указаны напротив заданий.\n",
    "\n",
    "За соревнование даются бонусные баллы следующим образом.\n",
    "Если вы пересекли baseline_2 на приватном лидерборде, ваша оценка равна \n",
    "\n",
    "10 - 10 * (i - 1) / M\n",
    "\n",
    "где M — количество студентов, принявших участие в соревновании;\n",
    "\n",
    "i — место (начиная с 1) студента в приватном лидерборде среди всех таких студентов.\n",
    "\n",
    "Правила:\n",
    "\n",
    "* Домашнее задание оценивается в 10 баллов.\n",
    "\n",
    "* Плагиат не допускается. При обнаружении случаев списывания, 0 за работу выставляется всем участникам нарушения, даже если можно установить, кто у кого списал.\n",
    "\n",
    "* Старайтесь сделать код как можно более оптимальным. В частности, будет штрафоваться использование циклов в тех случаях, когда операцию можно совершить при помощи инструментов библиотек, о которых рассказывалось в курсе.  \n",
    "\n",
    "* В течение 3 суток после окончания соревнования в соответствующее задание на anytask необходимо прислать код, воспроизводящий ответы для посылки, фигурирующей в приватном лидерборде. В случае отсутствия кода, воспроизводящего результат, в установленный срок студенту выставляется 0 в качестве оценки за соревнование. Если не оговорено иное, использовать любые внешние данные в соревнованиях '''запрещено'''. Под внешними данными понимаются размеченные данные, где разметка имеет прямое отношение к решаемой задаче. Грубо говоря, сборник текстов с википедии не считается внешними данными.\n"
   ]
  },
  {
   "cell_type": "markdown",
   "metadata": {},
   "source": [
    "Мы будем работать с датасетом объявлений Avito. Нам предстоит по заголовку и тексту объявления предсказывать категорию объявления."
   ]
  },
  {
   "cell_type": "code",
   "execution_count": 1,
   "metadata": {},
   "outputs": [],
   "source": [
    "import pandas as pd"
   ]
  },
  {
   "cell_type": "code",
   "execution_count": 2,
   "metadata": {},
   "outputs": [],
   "source": [
    "train = pd.read_csv('avito-category-prediction/train.csv')\n",
    "test = pd.read_csv('avito-category-prediction/test.csv')"
   ]
  },
  {
   "cell_type": "code",
   "execution_count": 3,
   "metadata": {},
   "outputs": [
    {
     "data": {
      "text/html": [
       "<div>\n",
       "<style scoped>\n",
       "    .dataframe tbody tr th:only-of-type {\n",
       "        vertical-align: middle;\n",
       "    }\n",
       "\n",
       "    .dataframe tbody tr th {\n",
       "        vertical-align: top;\n",
       "    }\n",
       "\n",
       "    .dataframe thead th {\n",
       "        text-align: right;\n",
       "    }\n",
       "</style>\n",
       "<table border=\"1\" class=\"dataframe\">\n",
       "  <thead>\n",
       "    <tr style=\"text-align: right;\">\n",
       "      <th></th>\n",
       "      <th>title</th>\n",
       "      <th>description</th>\n",
       "      <th>Category_name</th>\n",
       "      <th>Category</th>\n",
       "    </tr>\n",
       "  </thead>\n",
       "  <tbody>\n",
       "    <tr>\n",
       "      <th>0</th>\n",
       "      <td>Эбу Renault / Nissan 1,5 DCI Delphi 2001-2008 год</td>\n",
       "      <td>Комплект ЭБУ (мозги, компьютер мотора, двигате...</td>\n",
       "      <td>Запчасти и аксессуары</td>\n",
       "      <td>10</td>\n",
       "    </tr>\n",
       "    <tr>\n",
       "      <th>1</th>\n",
       "      <td>Утюг утп 1000 ватт СССР 1987 год</td>\n",
       "      <td>Продам/\\n Фото № 1-2 /\\n /\\nУтюг УТП 1000 ватт...</td>\n",
       "      <td>Бытовая техника</td>\n",
       "      <td>21</td>\n",
       "    </tr>\n",
       "    <tr>\n",
       "      <th>2</th>\n",
       "      <td>Возвму машину с выкупом</td>\n",
       "      <td>Возьму машину в аренду с последующим выкупом н...</td>\n",
       "      <td>Предложение услуг</td>\n",
       "      <td>114</td>\n",
       "    </tr>\n",
       "    <tr>\n",
       "      <th>3</th>\n",
       "      <td>Полусапожки</td>\n",
       "      <td>полусапожки в отличном состоянии, один раз оде...</td>\n",
       "      <td>Одежда, обувь, аксессуары</td>\n",
       "      <td>27</td>\n",
       "    </tr>\n",
       "    <tr>\n",
       "      <th>4</th>\n",
       "      <td>Босоножки кожаные</td>\n",
       "      <td>Кожаные(натур) босоножки Karlo Pasolini, 40 рр...</td>\n",
       "      <td>Одежда, обувь, аксессуары</td>\n",
       "      <td>27</td>\n",
       "    </tr>\n",
       "  </tbody>\n",
       "</table>\n",
       "</div>"
      ],
      "text/plain": [
       "                                               title  \\\n",
       "0  Эбу Renault / Nissan 1,5 DCI Delphi 2001-2008 год   \n",
       "1                   Утюг утп 1000 ватт СССР 1987 год   \n",
       "2                            Возвму машину с выкупом   \n",
       "3                                        Полусапожки   \n",
       "4                                  Босоножки кожаные   \n",
       "\n",
       "                                         description  \\\n",
       "0  Комплект ЭБУ (мозги, компьютер мотора, двигате...   \n",
       "1  Продам/\\n Фото № 1-2 /\\n /\\nУтюг УТП 1000 ватт...   \n",
       "2  Возьму машину в аренду с последующим выкупом н...   \n",
       "3  полусапожки в отличном состоянии, один раз оде...   \n",
       "4  Кожаные(натур) босоножки Karlo Pasolini, 40 рр...   \n",
       "\n",
       "               Category_name  Category  \n",
       "0      Запчасти и аксессуары        10  \n",
       "1            Бытовая техника        21  \n",
       "2          Предложение услуг       114  \n",
       "3  Одежда, обувь, аксессуары        27  \n",
       "4  Одежда, обувь, аксессуары        27  "
      ]
     },
     "execution_count": 3,
     "metadata": {},
     "output_type": "execute_result"
    }
   ],
   "source": [
    "train.head()"
   ]
  },
  {
   "cell_type": "code",
   "execution_count": 4,
   "metadata": {},
   "outputs": [
    {
     "data": {
      "text/plain": [
       "(4234042, 4)"
      ]
     },
     "execution_count": 4,
     "metadata": {},
     "output_type": "execute_result"
    }
   ],
   "source": [
    "train.shape"
   ]
  },
  {
   "cell_type": "markdown",
   "metadata": {},
   "source": [
    "## Задание 1 (0.5 балла)\n",
    "\n",
    "Выведете на экран информацию о пропусках в данных. Если пропуски присутствуют заполните их пустой строкой."
   ]
  },
  {
   "cell_type": "code",
   "execution_count": 5,
   "metadata": {},
   "outputs": [
    {
     "data": {
      "text/plain": [
       "title            False\n",
       "description       True\n",
       "Category_name    False\n",
       "Category         False\n",
       "dtype: bool"
      ]
     },
     "execution_count": 5,
     "metadata": {},
     "output_type": "execute_result"
    }
   ],
   "source": [
    "train.isnull().any()"
   ]
  },
  {
   "cell_type": "code",
   "execution_count": 6,
   "metadata": {},
   "outputs": [
    {
     "data": {
      "text/plain": [
       "title          False\n",
       "description     True\n",
       "itemid         False\n",
       "dtype: bool"
      ]
     },
     "execution_count": 6,
     "metadata": {},
     "output_type": "execute_result"
    }
   ],
   "source": [
    "test.isnull().any()"
   ]
  },
  {
   "cell_type": "code",
   "execution_count": 7,
   "metadata": {},
   "outputs": [],
   "source": [
    "train['description'].fillna(value = '', inplace = True)"
   ]
  },
  {
   "cell_type": "code",
   "execution_count": 8,
   "metadata": {},
   "outputs": [],
   "source": [
    "test['description'].fillna(value = '', inplace = True)"
   ]
  },
  {
   "cell_type": "code",
   "execution_count": null,
   "metadata": {},
   "outputs": [],
   "source": []
  },
  {
   "cell_type": "markdown",
   "metadata": {},
   "source": [
    "## Задание 2 (0.5 балла)\n",
    "Сконкатенируйте заголовок и описание в единую строку и поместите результат в отдельный столбец. Таким образом мы будет работать с одним текстом, а не с двумя."
   ]
  },
  {
   "cell_type": "code",
   "execution_count": 9,
   "metadata": {},
   "outputs": [],
   "source": [
    "train['title_and_description'] = train['title'] + '/' + train['description']"
   ]
  },
  {
   "cell_type": "code",
   "execution_count": 10,
   "metadata": {},
   "outputs": [],
   "source": [
    "test['title_and_description'] = test['title'] + '/' + test['description']"
   ]
  },
  {
   "cell_type": "markdown",
   "metadata": {},
   "source": [
    "## Задание 3 (0.5 балла)\n",
    "Давайте немного посмотрим на наши данные. Визуализируйте (где явно просят) или выведете информацию о следующем:\n",
    "\n",
    "1. Сколько всего уникальных классов необходимо предсказать?\n",
    "2. Постройте столбчатую диаграмму распределения по классам. Нормализуйте график, чтобы видеть доли, а не абсолютные значения.\n",
    "3. На сколько большой дисбаланс? Какой класс имеет самую большую долю в выборке (укажите класс и долю), какой класс наименьшую (укажите класс и долю)."
   ]
  },
  {
   "cell_type": "code",
   "execution_count": 11,
   "metadata": {},
   "outputs": [
    {
     "data": {
      "text/plain": [
       "50"
      ]
     },
     "execution_count": 11,
     "metadata": {},
     "output_type": "execute_result"
    }
   ],
   "source": [
    "len(train['Category'].unique())"
   ]
  },
  {
   "cell_type": "code",
   "execution_count": 12,
   "metadata": {},
   "outputs": [
    {
     "data": {
      "text/plain": [
       "array([ 10,  21, 114,  27,  29,   9, 112,  39,  90,  20,  94,  36,  99,\n",
       "       101,  84,  19,  30,  82,  32,  81,  24,  87, 111,  93,  42,  28,\n",
       "        40, 105,  97,  83,  38,  88,  96,  25,  85,  26, 102, 106,  11,\n",
       "        34,  31,  98,  14,  23,  89,  91,  92, 116,  33,  86])"
      ]
     },
     "execution_count": 12,
     "metadata": {},
     "output_type": "execute_result"
    }
   ],
   "source": [
    "train['Category'].unique()"
   ]
  },
  {
   "cell_type": "code",
   "execution_count": 13,
   "metadata": {},
   "outputs": [],
   "source": [
    "import matplotlib.pyplot as plt\n",
    "import seaborn as sns\n",
    "import numpy as np\n",
    "sns.set(rc={'figure.figsize':(20,10)})\n"
   ]
  },
  {
   "cell_type": "code",
   "execution_count": 14,
   "metadata": {},
   "outputs": [
    {
     "name": "stderr",
     "output_type": "stream",
     "text": [
      "/Users/igorgogarev/opt/anaconda3/lib/python3.8/site-packages/seaborn/_decorators.py:36: FutureWarning: Pass the following variable as a keyword arg: x. From version 0.12, the only valid positional argument will be `data`, and passing other arguments without an explicit keyword will result in an error or misinterpretation.\n",
      "  warnings.warn(\n"
     ]
    },
    {
     "data": {
      "text/plain": [
       "<AxesSubplot:xlabel='Category', ylabel='count'>"
      ]
     },
     "execution_count": 14,
     "metadata": {},
     "output_type": "execute_result"
    },
    {
     "data": {
      "image/png": "[encoded data removed]",
      "text/plain": [
       "<Figure size 1440x720 with 1 Axes>"
      ]
     },
     "metadata": {},
     "output_type": "display_data"
    }
   ],
   "source": [
    "sns.countplot(train['Category'])"
   ]
  },
  {
   "cell_type": "code",
   "execution_count": 15,
   "metadata": {},
   "outputs": [
    {
     "data": {
      "text/plain": [
       "27     0.180707\n",
       "10     0.174939\n",
       "29     0.136394\n",
       "30     0.048775\n",
       "20     0.037018\n",
       "24     0.033593\n",
       "19     0.032756\n",
       "9      0.029706\n",
       "114    0.028378\n",
       "84     0.026850\n",
       "36     0.023761\n",
       "39     0.020163\n",
       "32     0.019681\n",
       "88     0.017110\n",
       "21     0.016754\n",
       "101    0.016079\n",
       "83     0.013948\n",
       "28     0.013918\n",
       "25     0.011392\n",
       "87     0.010047\n",
       "40     0.007590\n",
       "111    0.006403\n",
       "26     0.006381\n",
       "97     0.006217\n",
       "105    0.005854\n",
       "106    0.005459\n",
       "42     0.005179\n",
       "34     0.004603\n",
       "99     0.004599\n",
       "98     0.004359\n",
       "38     0.004138\n",
       "81     0.004055\n",
       "82     0.004012\n",
       "90     0.003647\n",
       "31     0.003524\n",
       "89     0.003239\n",
       "96     0.003236\n",
       "85     0.003148\n",
       "94     0.003136\n",
       "112    0.003082\n",
       "102    0.002874\n",
       "93     0.002805\n",
       "14     0.002798\n",
       "23     0.002758\n",
       "92     0.001235\n",
       "11     0.001152\n",
       "116    0.000974\n",
       "91     0.000854\n",
       "33     0.000682\n",
       "86     0.000039\n",
       "Name: Category, dtype: float64"
      ]
     },
     "execution_count": 15,
     "metadata": {},
     "output_type": "execute_result"
    }
   ],
   "source": [
    "train['Category'].value_counts(normalize = True)"
   ]
  },
  {
   "cell_type": "markdown",
   "metadata": {},
   "source": [
    "Как видно из получившихся вычислений, разброс по категориям очень большой. Так, наиболее редко встречающася категория - 86 - встречается в 0.0000389 случаях, а самая максимальная - 27 - в 0.18 случаях\n"
   ]
  },
  {
   "cell_type": "markdown",
   "metadata": {},
   "source": [
    "## Задание 4 (0.5 балла)\n",
    "\n",
    "Далее мы будем пока работать только с train частью. Для test части нам неизвестны истинные значения, и они понадобятся только тогда, когда мы будем отправлять решение на Kaggle.\n",
    "\n",
    "1. Предобработайте данные (train часть) с помощью CountVectorizer.\n",
    "2. Какого размера получилась матрица?\n"
   ]
  },
  {
   "cell_type": "code",
   "execution_count": 16,
   "metadata": {},
   "outputs": [],
   "source": [
    "from sklearn.feature_extraction.text import CountVectorizer"
   ]
  },
  {
   "cell_type": "code",
   "execution_count": 17,
   "metadata": {},
   "outputs": [],
   "source": [
    "vectorizer = CountVectorizer()"
   ]
  },
  {
   "cell_type": "code",
   "execution_count": 18,
   "metadata": {},
   "outputs": [],
   "source": [
    "bow = vectorizer.fit_transform(train['title_and_description'])"
   ]
  },
  {
   "cell_type": "code",
   "execution_count": 19,
   "metadata": {},
   "outputs": [
    {
     "data": {
      "text/plain": [
       "(4234042, 2125805)"
      ]
     },
     "execution_count": 19,
     "metadata": {},
     "output_type": "execute_result"
    }
   ],
   "source": [
    "bow.shape"
   ]
  },
  {
   "cell_type": "markdown",
   "metadata": {},
   "source": [
    "## Задание 5 (0.5 балла)\n",
    "\n",
    "В предыдущем пункте у вас должная была получится очень большая матрица. Это не дело.\n",
    "Если вы взгляните на текст, то увидете, что там есть множество специальных символов.\n",
    "\n",
    "Давайте также посмотрим на словарь, который получился в результате построения CountVectorizer, его можно найти в поле _vocabulary инстанса этого класса.\n",
    "\n",
    "1. Найдите в этом словаре все слова, которые начинаются на цифру. Сколько таких слов нашлось?\n",
    "\n",
    "2. Найдите все слова, которые начинаются на символы пунктуации. Сколько таких слов нашлось? "
   ]
  },
  {
   "cell_type": "code",
   "execution_count": 20,
   "metadata": {},
   "outputs": [],
   "source": [
    "from string import punctuation"
   ]
  },
  {
   "cell_type": "code",
   "execution_count": 21,
   "metadata": {},
   "outputs": [],
   "source": [
    "words = vectorizer.vocabulary_"
   ]
  },
  {
   "cell_type": "code",
   "execution_count": 22,
   "metadata": {},
   "outputs": [
    {
     "data": {
      "text/plain": [
       "610944"
      ]
     },
     "execution_count": 22,
     "metadata": {},
     "output_type": "execute_result"
    }
   ],
   "source": [
    "keys = list(words)\n",
    "counter = 0\n",
    "for i in range(len(keys)):\n",
    "    if(keys[i][0].isdigit()):\n",
    "        counter += 1\n",
    "counter"
   ]
  },
  {
   "cell_type": "code",
   "execution_count": 23,
   "metadata": {},
   "outputs": [
    {
     "data": {
      "text/plain": [
       "2043"
      ]
     },
     "execution_count": 23,
     "metadata": {},
     "output_type": "execute_result"
    }
   ],
   "source": [
    "counter2 = 0\n",
    "for i in range(len(keys)):\n",
    "    if(keys[i][0] in punctuation):\n",
    "        counter2 += 1\n",
    "counter2"
   ]
  },
  {
   "cell_type": "markdown",
   "metadata": {},
   "source": [
    "## Задание 6 (2.5 балла)\n",
    "\n",
    "В scikit-learn мы можем оценивать процесс подсчета матрицы через CountVectorizer. У CountVectorizer, как и у других наследников \\_VectorizerMixin, есть аргумент tokenizer и preprocessor. preprocessor применится в самом начале к каждой строке вашего датасета, tokenizer же должен принять строку и вернуть токены.\n",
    "Давайте напишем кастомный токенайзер, которые сделает все, что нам нужно: \n",
    "\n",
    "0. Приведет все буквы к нижнему регистру\n",
    "1. Разобьет текст на токены с помощью word_tokenizer из пакета nltk\n",
    "2. Удалит все токены содержащие числа и пунктуацию\n",
    "3. Удалит все токены, которые перечислены в nltk.corpus.stopwords('russian')\n",
    "4. Проведет стемминг с помощью SnowballStemmer\n",
    "\n",
    "Продемонстрируйте работу вашей функии на самом первом описании товара в датасете.\n",
    "\n",
    "Важно: так как функию будет необходимо запускать на большом корпусе, подумайте об эффективной реализации. Постарайтесь решить задачу в минимальное количество циклов и копирований.\n",
    "\n",
    "Референсная реализация на компьютере автора работала 230 секунд на 100к строчек."
   ]
  },
  {
   "cell_type": "code",
   "execution_count": 24,
   "metadata": {},
   "outputs": [],
   "source": [
    "from nltk.tokenize import word_tokenize\n",
    "import nltk\n",
    "from nltk.stem.snowball import SnowballStemmer"
   ]
  },
  {
   "cell_type": "code",
   "execution_count": 25,
   "metadata": {},
   "outputs": [
    {
     "name": "stderr",
     "output_type": "stream",
     "text": [
      "[nltk_data] Downloading package stopwords to\n",
      "[nltk_data]     /Users/igorgogarev/nltk_data...\n",
      "[nltk_data]   Package stopwords is already up-to-date!\n",
      "[nltk_data] Downloading package punkt to\n",
      "[nltk_data]     /Users/igorgogarev/nltk_data...\n",
      "[nltk_data]   Package punkt is already up-to-date!\n"
     ]
    },
    {
     "data": {
      "text/plain": [
       "True"
      ]
     },
     "execution_count": 25,
     "metadata": {},
     "output_type": "execute_result"
    }
   ],
   "source": [
    "nltk.download(\"stopwords\")\n",
    "nltk.download('punkt')"
   ]
  },
  {
   "cell_type": "code",
   "execution_count": 26,
   "metadata": {},
   "outputs": [],
   "source": [
    "from nltk.corpus import stopwords\n",
    "\n",
    "import numpy as np"
   ]
  },
  {
   "cell_type": "code",
   "execution_count": 27,
   "metadata": {},
   "outputs": [],
   "source": [
    "numbers = ['1', '2', '3', '4', '5', '6', '7', '8', '9', '0']\n",
    "noise = list(punctuation) + numbers + ['—' , '«' ,  '»']\n",
    "s_words = stopwords.words('russian') \n",
    "stemmer = SnowballStemmer('russian')"
   ]
  },
  {
   "cell_type": "code",
   "execution_count": 28,
   "metadata": {},
   "outputs": [],
   "source": [
    "def custom_tokenizer(s):\n",
    "    s = s.lower()\n",
    "    tokens = np.array(word_tokenize(s))\n",
    "    to_delete_indexes = []\n",
    "    for i in range(len(tokens)):\n",
    "        for j in range(len(noise)):\n",
    "            if(tokens[i].find(noise[j]) != -1):\n",
    "                to_delete_indexes.append(i)\n",
    "                break\n",
    "    tokens = np.delete(tokens, to_delete_indexes)\n",
    "    to_delete_indexes = []\n",
    "    for i in range(len(tokens)):\n",
    "        for j in range(len(s_words)):\n",
    "            if tokens[i] == s_words[j]:\n",
    "                to_delete_indexes.append(i)\n",
    "                break\n",
    "    return [stemmer.stem(w) for w in np.delete(tokens, to_delete_indexes)]"
   ]
  },
  {
   "cell_type": "code",
   "execution_count": 29,
   "metadata": {},
   "outputs": [
    {
     "data": {
      "text/plain": [
       "['эб',\n",
       " 'renault',\n",
       " 'nissan',\n",
       " 'dci',\n",
       " 'delphi',\n",
       " 'эб',\n",
       " 'мозг',\n",
       " 'компьютер',\n",
       " 'мотор',\n",
       " 'двигател',\n",
       " 'коммутатор',\n",
       " 'электрон',\n",
       " 'блок',\n",
       " 'управлен',\n",
       " 'двигател',\n",
       " 'компьютер',\n",
       " 'мотор',\n",
       " 'рен',\n",
       " 'kangoo',\n",
       " 'канг',\n",
       " 'канг',\n",
       " 'мега',\n",
       " 'сценик',\n",
       " 'laguna',\n",
       " 'лагун',\n",
       " 'clio',\n",
       " 'кли',\n",
       " 'nissan',\n",
       " 'micra',\n",
       " 'нисса',\n",
       " 'микр',\n",
       " 'друг',\n",
       " 'рен',\n",
       " 'нисса',\n",
       " 'дизел',\n",
       " 'топливн',\n",
       " 'аппаратур',\n",
       " 'делф',\n",
       " 'оригина',\n",
       " 'отличн',\n",
       " 'состоян',\n",
       " 'проверен',\n",
       " 'гарант',\n",
       " 'запчаст',\n",
       " 'предоставля',\n",
       " 'гарант',\n",
       " 'возможн',\n",
       " 'установк',\n",
       " 'подробн',\n",
       " 'раздел',\n",
       " 'компан',\n",
       " 'дорож',\n",
       " 'сво',\n",
       " 'репутац',\n",
       " 'торгу',\n",
       " 'легальн',\n",
       " 'контрактн',\n",
       " 'запчаст',\n",
       " 'дета',\n",
       " 'налич',\n",
       " 'таможен',\n",
       " 'документ',\n",
       " 'запчаст',\n",
       " 'автомобил',\n",
       " 'пробег',\n",
       " 'росс',\n",
       " 'отправля',\n",
       " 'друг',\n",
       " 'регион',\n",
       " 'таможен',\n",
       " 'союз',\n",
       " 'транспортн',\n",
       " 'компан',\n",
       " 'наложн',\n",
       " 'платеж']"
      ]
     },
     "execution_count": 29,
     "metadata": {},
     "output_type": "execute_result"
    }
   ],
   "source": [
    "custom_tokenizer(train['title_and_description'][0])"
   ]
  },
  {
   "cell_type": "markdown",
   "metadata": {},
   "source": [
    "## Задание 7 (1 балл)\n",
    "\n",
    "1. Возьмите случайные 500к строк из датасета. Постройте по ним CountVectorizer с применением вашего токенизатора.\n",
    "2. Разбейте полученную матрицу на train, test в отношении 4 к 1. Не забудьте про target переменную.\n",
    "3. Обучите SGDClassifier на полученной выборке.\n",
    "4. Посчитайте метрику accuracy"
   ]
  },
  {
   "cell_type": "code",
   "execution_count": 30,
   "metadata": {},
   "outputs": [],
   "source": [
    "self_vectorizer = CountVectorizer(tokenizer = custom_tokenizer)"
   ]
  },
  {
   "cell_type": "code",
   "execution_count": 31,
   "metadata": {},
   "outputs": [],
   "source": [
    "work_data = train.sample(100000)"
   ]
  },
  {
   "cell_type": "code",
   "execution_count": 32,
   "metadata": {},
   "outputs": [
    {
     "data": {
      "text/html": [
       "<div>\n",
       "<style scoped>\n",
       "    .dataframe tbody tr th:only-of-type {\n",
       "        vertical-align: middle;\n",
       "    }\n",
       "\n",
       "    .dataframe tbody tr th {\n",
       "        vertical-align: top;\n",
       "    }\n",
       "\n",
       "    .dataframe thead th {\n",
       "        text-align: right;\n",
       "    }\n",
       "</style>\n",
       "<table border=\"1\" class=\"dataframe\">\n",
       "  <thead>\n",
       "    <tr style=\"text-align: right;\">\n",
       "      <th></th>\n",
       "      <th>title</th>\n",
       "      <th>description</th>\n",
       "      <th>Category_name</th>\n",
       "      <th>Category</th>\n",
       "      <th>title_and_description</th>\n",
       "    </tr>\n",
       "  </thead>\n",
       "  <tbody>\n",
       "    <tr>\n",
       "      <th>281525</th>\n",
       "      <td>Колеса зима R16 5x100 DIA 67.1 ET45</td>\n",
       "      <td>Колеса в сборе. Зимняя нешипованная резина./\\n...</td>\n",
       "      <td>Запчасти и аксессуары</td>\n",
       "      <td>10</td>\n",
       "      <td>Колеса зима R16 5x100 DIA 67.1 ET45/Колеса в с...</td>\n",
       "    </tr>\n",
       "    <tr>\n",
       "      <th>3104163</th>\n",
       "      <td>Багажник для audi Q5</td>\n",
       "      <td>Оригинал,новый. Покупался за 12000 руб. На авт...</td>\n",
       "      <td>Запчасти и аксессуары</td>\n",
       "      <td>10</td>\n",
       "      <td>Багажник для audi Q5/Оригинал,новый. Покупался...</td>\n",
       "    </tr>\n",
       "    <tr>\n",
       "      <th>3886975</th>\n",
       "      <td>Панель приборов. Ducato, Jumper, Boxer</td>\n",
       "      <td>Панель приборов Подходит на Fiat Ducato, Citro...</td>\n",
       "      <td>Запчасти и аксессуары</td>\n",
       "      <td>10</td>\n",
       "      <td>Панель приборов. Ducato, Jumper, Boxer/Панель ...</td>\n",
       "    </tr>\n",
       "    <tr>\n",
       "      <th>1231286</th>\n",
       "      <td>Юбка новая</td>\n",
       "      <td>Абсолютно новая юбка, с бирочкой. Подойдёт на ...</td>\n",
       "      <td>Одежда, обувь, аксессуары</td>\n",
       "      <td>27</td>\n",
       "      <td>Юбка новая/Абсолютно новая юбка, с бирочкой. П...</td>\n",
       "    </tr>\n",
       "    <tr>\n",
       "      <th>3394436</th>\n",
       "      <td>Человек паук на ps4</td>\n",
       "      <td>Игра в отличном состоянии, приобретена 2 месяц...</td>\n",
       "      <td>Игры, приставки и программы</td>\n",
       "      <td>97</td>\n",
       "      <td>Человек паук на ps4/Игра в отличном состоянии,...</td>\n",
       "    </tr>\n",
       "  </tbody>\n",
       "</table>\n",
       "</div>"
      ],
      "text/plain": [
       "                                          title  \\\n",
       "281525      Колеса зима R16 5x100 DIA 67.1 ET45   \n",
       "3104163                    Багажник для audi Q5   \n",
       "3886975  Панель приборов. Ducato, Jumper, Boxer   \n",
       "1231286                              Юбка новая   \n",
       "3394436                     Человек паук на ps4   \n",
       "\n",
       "                                               description  \\\n",
       "281525   Колеса в сборе. Зимняя нешипованная резина./\\n...   \n",
       "3104163  Оригинал,новый. Покупался за 12000 руб. На авт...   \n",
       "3886975  Панель приборов Подходит на Fiat Ducato, Citro...   \n",
       "1231286  Абсолютно новая юбка, с бирочкой. Подойдёт на ...   \n",
       "3394436  Игра в отличном состоянии, приобретена 2 месяц...   \n",
       "\n",
       "                       Category_name  Category  \\\n",
       "281525         Запчасти и аксессуары        10   \n",
       "3104163        Запчасти и аксессуары        10   \n",
       "3886975        Запчасти и аксессуары        10   \n",
       "1231286    Одежда, обувь, аксессуары        27   \n",
       "3394436  Игры, приставки и программы        97   \n",
       "\n",
       "                                     title_and_description  \n",
       "281525   Колеса зима R16 5x100 DIA 67.1 ET45/Колеса в с...  \n",
       "3104163  Багажник для audi Q5/Оригинал,новый. Покупался...  \n",
       "3886975  Панель приборов. Ducato, Jumper, Boxer/Панель ...  \n",
       "1231286  Юбка новая/Абсолютно новая юбка, с бирочкой. П...  \n",
       "3394436  Человек паук на ps4/Игра в отличном состоянии,...  "
      ]
     },
     "execution_count": 32,
     "metadata": {},
     "output_type": "execute_result"
    }
   ],
   "source": [
    "work_data.head()"
   ]
  },
  {
   "cell_type": "code",
   "execution_count": 33,
   "metadata": {},
   "outputs": [],
   "source": [
    "self_bow = self_vectorizer.fit_transform(work_data['title_and_description'])"
   ]
  },
  {
   "cell_type": "code",
   "execution_count": 34,
   "metadata": {},
   "outputs": [],
   "source": [
    "from sklearn.model_selection import train_test_split"
   ]
  },
  {
   "cell_type": "code",
   "execution_count": 35,
   "metadata": {},
   "outputs": [],
   "source": [
    "X_train, X_test, y_train, y_test = train_test_split(self_bow, work_data['Category'], test_size=0.2, random_state=42)"
   ]
  },
  {
   "cell_type": "code",
   "execution_count": 36,
   "metadata": {},
   "outputs": [],
   "source": [
    "from sklearn.linear_model import SGDClassifier\n",
    "from sklearn.metrics import accuracy_score"
   ]
  },
  {
   "cell_type": "code",
   "execution_count": 37,
   "metadata": {},
   "outputs": [],
   "source": [
    "clf = SGDClassifier()"
   ]
  },
  {
   "cell_type": "code",
   "execution_count": 38,
   "metadata": {},
   "outputs": [
    {
     "data": {
      "text/plain": [
       "SGDClassifier()"
      ]
     },
     "execution_count": 38,
     "metadata": {},
     "output_type": "execute_result"
    }
   ],
   "source": [
    "clf.fit(X_train, y_train)"
   ]
  },
  {
   "cell_type": "code",
   "execution_count": 39,
   "metadata": {},
   "outputs": [
    {
     "data": {
      "text/plain": [
       "0.7825"
      ]
     },
     "execution_count": 39,
     "metadata": {},
     "output_type": "execute_result"
    }
   ],
   "source": [
    "accuracy_score(y_test, clf.predict(X_test))"
   ]
  },
  {
   "cell_type": "code",
   "execution_count": 58,
   "metadata": {},
   "outputs": [
    {
     "data": {
      "text/plain": [
       "(100000, 89220)"
      ]
     },
     "execution_count": 58,
     "metadata": {},
     "output_type": "execute_result"
    }
   ],
   "source": [
    "self_bow.shape"
   ]
  },
  {
   "cell_type": "markdown",
   "metadata": {},
   "source": [
    "## Задание 8 (1 балл)\n",
    "\n",
    "1. Повторите 7 задание, но с tf-idf векторизатором. Как изменилось качество.\n",
    "2. Мы можем еще сильнее уменьшите размер нашей матрицы, если отбросим значения df близкие к единице. Скорее всего такие слова не несут много информации о категории, так как встречаются достаточно часто. Ограничьте максимальный df в параметрах TfIdfVectorizer, поставьте верхнюю границу равную 0.9. Как изменился размер матрицы, как изменилось качество?\n"
   ]
  },
  {
   "cell_type": "code",
   "execution_count": 40,
   "metadata": {},
   "outputs": [],
   "source": [
    "from sklearn.feature_extraction.text import TfidfVectorizer"
   ]
  },
  {
   "cell_type": "code",
   "execution_count": 41,
   "metadata": {},
   "outputs": [],
   "source": [
    "tf_vectorizer = TfidfVectorizer(tokenizer = custom_tokenizer)"
   ]
  },
  {
   "cell_type": "code",
   "execution_count": 42,
   "metadata": {},
   "outputs": [],
   "source": [
    "tf_idf_bow = tf_vectorizer.fit_transform(work_data['title_and_description'])"
   ]
  },
  {
   "cell_type": "code",
   "execution_count": 43,
   "metadata": {},
   "outputs": [],
   "source": [
    "X_train, X_test, y_train, y_test = train_test_split(tf_idf_bow, work_data['Category'], test_size=0.2, random_state=42)"
   ]
  },
  {
   "cell_type": "code",
   "execution_count": 44,
   "metadata": {},
   "outputs": [
    {
     "data": {
      "text/plain": [
       "SGDClassifier()"
      ]
     },
     "execution_count": 44,
     "metadata": {},
     "output_type": "execute_result"
    }
   ],
   "source": [
    "clf.fit(X_train, y_train)"
   ]
  },
  {
   "cell_type": "code",
   "execution_count": 45,
   "metadata": {},
   "outputs": [
    {
     "data": {
      "text/plain": [
       "0.78495"
      ]
     },
     "execution_count": 45,
     "metadata": {},
     "output_type": "execute_result"
    }
   ],
   "source": [
    "accuracy_score(y_test, clf.predict(X_test))"
   ]
  },
  {
   "cell_type": "raw",
   "metadata": {},
   "source": [
    "Как видно, качество немного повысилось"
   ]
  },
  {
   "cell_type": "code",
   "execution_count": 59,
   "metadata": {},
   "outputs": [
    {
     "data": {
      "text/plain": [
       "(100000, 89220)"
      ]
     },
     "execution_count": 59,
     "metadata": {},
     "output_type": "execute_result"
    }
   ],
   "source": [
    "tf_idf_bow.shape"
   ]
  },
  {
   "cell_type": "code",
   "execution_count": 46,
   "metadata": {},
   "outputs": [],
   "source": [
    "tf_vectorizer_2 = TfidfVectorizer(tokenizer = custom_tokenizer, max_df = 0.9)"
   ]
  },
  {
   "cell_type": "code",
   "execution_count": 47,
   "metadata": {},
   "outputs": [],
   "source": [
    "tf_idf_bow_2 = tf_vectorizer_2.fit_transform(work_data['title_and_description'])"
   ]
  },
  {
   "cell_type": "code",
   "execution_count": 48,
   "metadata": {},
   "outputs": [],
   "source": [
    "X_train, X_test, y_train, y_test = train_test_split(tf_idf_bow_2, work_data['Category'], test_size=0.2, random_state=42)"
   ]
  },
  {
   "cell_type": "code",
   "execution_count": 49,
   "metadata": {},
   "outputs": [
    {
     "data": {
      "text/plain": [
       "SGDClassifier()"
      ]
     },
     "execution_count": 49,
     "metadata": {},
     "output_type": "execute_result"
    }
   ],
   "source": [
    "clf.fit(X_train, y_train)"
   ]
  },
  {
   "cell_type": "code",
   "execution_count": 50,
   "metadata": {},
   "outputs": [
    {
     "data": {
      "text/plain": [
       "0.78575"
      ]
     },
     "execution_count": 50,
     "metadata": {},
     "output_type": "execute_result"
    }
   ],
   "source": [
    "accuracy_score(y_test, clf.predict(X_test))"
   ]
  },
  {
   "cell_type": "code",
   "execution_count": 61,
   "metadata": {},
   "outputs": [
    {
     "data": {
      "text/plain": [
       "(100000, 89220)"
      ]
     },
     "execution_count": 61,
     "metadata": {},
     "output_type": "execute_result"
    }
   ],
   "source": [
    "tf_idf_bow_2.shape"
   ]
  },
  {
   "cell_type": "raw",
   "metadata": {},
   "source": [
    "Качество немного повысилось"
   ]
  },
  {
   "cell_type": "markdown",
   "metadata": {},
   "source": [
    "## Задание 9 (1 балл)\n",
    "Еще один популяпный трюк, который позволит уменьшить количество признаков называется hashing trick. Его суть в том, то мы случайно группируем признаки ииии  ..... складываем их! А потом удаляем исходные признаки. В итоге все наши признаки это просто суммы исходных. Звучит странно, но это отлично работает. Давайте проверим этот трюк в нашем сеттинге.\n",
    "Также при таком подходе вам не нужно хранить словарь token->index, что тоже иногда полезно.\n",
    "\n",
    "1. Повторите задание 7 с HashingVectorizer, укажите количество фичей равное 30000.\n",
    "2. Какой из трех подходов показал самый высокий результат?"
   ]
  },
  {
   "cell_type": "code",
   "execution_count": 51,
   "metadata": {},
   "outputs": [],
   "source": [
    "from sklearn.feature_extraction.text import HashingVectorizer"
   ]
  },
  {
   "cell_type": "code",
   "execution_count": 52,
   "metadata": {},
   "outputs": [],
   "source": [
    "hashingVectorizer = HashingVectorizer(n_features = 30000, tokenizer = custom_tokenizer)"
   ]
  },
  {
   "cell_type": "code",
   "execution_count": 53,
   "metadata": {},
   "outputs": [
    {
     "name": "stderr",
     "output_type": "stream",
     "text": [
      "/Users/igorgogarev/opt/anaconda3/lib/python3.8/site-packages/sklearn/feature_extraction/text.py:489: UserWarning: The parameter 'token_pattern' will not be used since 'tokenizer' is not None'\n",
      "  warnings.warn(\"The parameter 'token_pattern' will not be used\"\n"
     ]
    }
   ],
   "source": [
    "hash_bow = hashingVectorizer.fit_transform(work_data['title_and_description'])"
   ]
  },
  {
   "cell_type": "code",
   "execution_count": 54,
   "metadata": {},
   "outputs": [],
   "source": [
    "X_train, X_test, y_train, y_test = train_test_split(hash_bow, work_data['Category'], test_size=0.2, random_state=42)"
   ]
  },
  {
   "cell_type": "code",
   "execution_count": 55,
   "metadata": {},
   "outputs": [
    {
     "data": {
      "text/plain": [
       "SGDClassifier()"
      ]
     },
     "execution_count": 55,
     "metadata": {},
     "output_type": "execute_result"
    }
   ],
   "source": [
    "clf.fit(X_train, y_train)"
   ]
  },
  {
   "cell_type": "code",
   "execution_count": 56,
   "metadata": {},
   "outputs": [
    {
     "data": {
      "text/plain": [
       "0.76595"
      ]
     },
     "execution_count": 56,
     "metadata": {},
     "output_type": "execute_result"
    }
   ],
   "source": [
    "accuracy_score(y_test, clf.predict(X_test))"
   ]
  },
  {
   "cell_type": "raw",
   "metadata": {},
   "source": [
    "Самый высокий результат - у TfidfVectorizer с ограничением max_df = 0.9"
   ]
  },
  {
   "cell_type": "markdown",
   "metadata": {},
   "source": [
    "## Задание 10 (1.5 балла)\n",
    "\n",
    "Пришло время выйти в мир. Отправляйтесь на Kaggle Inclass и сделайте первую посылку. Там вы найдете инструкцию как сформировать файл с предсказаниями и отправить его."
   ]
  },
  {
   "cell_type": "code",
   "execution_count": 57,
   "metadata": {},
   "outputs": [],
   "source": [
    "from sklearn.linear_model import LogisticRegression"
   ]
  },
  {
   "cell_type": "code",
   "execution_count": 35,
   "metadata": {},
   "outputs": [
    {
     "data": {
      "text/html": [
       "<div>\n",
       "<style scoped>\n",
       "    .dataframe tbody tr th:only-of-type {\n",
       "        vertical-align: middle;\n",
       "    }\n",
       "\n",
       "    .dataframe tbody tr th {\n",
       "        vertical-align: top;\n",
       "    }\n",
       "\n",
       "    .dataframe thead th {\n",
       "        text-align: right;\n",
       "    }\n",
       "</style>\n",
       "<table border=\"1\" class=\"dataframe\">\n",
       "  <thead>\n",
       "    <tr style=\"text-align: right;\">\n",
       "      <th></th>\n",
       "      <th>title</th>\n",
       "      <th>description</th>\n",
       "      <th>itemid</th>\n",
       "      <th>title_and_description</th>\n",
       "    </tr>\n",
       "  </thead>\n",
       "  <tbody>\n",
       "    <tr>\n",
       "      <th>0</th>\n",
       "      <td>Мастерка</td>\n",
       "      <td>Мастерка фирмы форвард. Белого цвета. В идеаль...</td>\n",
       "      <td>1778449823</td>\n",
       "      <td>Мастерка/Мастерка фирмы форвард. Белого цвета....</td>\n",
       "    </tr>\n",
       "    <tr>\n",
       "      <th>1</th>\n",
       "      <td>Зимние сапоги</td>\n",
       "      <td>Продаю зимние сапоги, в хорошем состоянии, все...</td>\n",
       "      <td>1677656962</td>\n",
       "      <td>Зимние сапоги/Продаю зимние сапоги, в хорошем ...</td>\n",
       "    </tr>\n",
       "    <tr>\n",
       "      <th>2</th>\n",
       "      <td>Видеонаблюдение 8 камер</td>\n",
       "      <td>В комплект Atis AMD-2MIR-8kit входит: /\\n1. Ку...</td>\n",
       "      <td>1758182804</td>\n",
       "      <td>Видеонаблюдение 8 камер/В комплект Atis AMD-2M...</td>\n",
       "    </tr>\n",
       "    <tr>\n",
       "      <th>3</th>\n",
       "      <td>Запчасти для GLE</td>\n",
       "      <td>Запчасти GLE</td>\n",
       "      <td>1689811299</td>\n",
       "      <td>Запчасти для GLE/Запчасти GLE</td>\n",
       "    </tr>\n",
       "    <tr>\n",
       "      <th>4</th>\n",
       "      <td>Бластер nerf</td>\n",
       "      <td>Состояние 5+/\\nПродаю потому что не нужен/\\n18...</td>\n",
       "      <td>1804706240</td>\n",
       "      <td>Бластер nerf/Состояние 5+/\\nПродаю потому что ...</td>\n",
       "    </tr>\n",
       "  </tbody>\n",
       "</table>\n",
       "</div>"
      ],
      "text/plain": [
       "                     title                                        description  \\\n",
       "0                 Мастерка  Мастерка фирмы форвард. Белого цвета. В идеаль...   \n",
       "1            Зимние сапоги  Продаю зимние сапоги, в хорошем состоянии, все...   \n",
       "2  Видеонаблюдение 8 камер  В комплект Atis AMD-2MIR-8kit входит: /\\n1. Ку...   \n",
       "3         Запчасти для GLE                                       Запчасти GLE   \n",
       "4             Бластер nerf  Состояние 5+/\\nПродаю потому что не нужен/\\n18...   \n",
       "\n",
       "       itemid                              title_and_description  \n",
       "0  1778449823  Мастерка/Мастерка фирмы форвард. Белого цвета....  \n",
       "1  1677656962  Зимние сапоги/Продаю зимние сапоги, в хорошем ...  \n",
       "2  1758182804  Видеонаблюдение 8 камер/В комплект Atis AMD-2M...  \n",
       "3  1689811299                      Запчасти для GLE/Запчасти GLE  \n",
       "4  1804706240  Бластер nerf/Состояние 5+/\\nПродаю потому что ...  "
      ]
     },
     "execution_count": 35,
     "metadata": {},
     "output_type": "execute_result"
    }
   ],
   "source": [
    "test.head()"
   ]
  },
  {
   "cell_type": "code",
   "execution_count": 36,
   "metadata": {},
   "outputs": [],
   "source": [
    "work_data_test = train.sample(700000)"
   ]
  },
  {
   "cell_type": "code",
   "execution_count": 37,
   "metadata": {},
   "outputs": [],
   "source": [
    "tf_vectorizer_test = TfidfVectorizer(tokenizer = custom_tokenizer, max_df = 0.8)"
   ]
  },
  {
   "cell_type": "code",
   "execution_count": 38,
   "metadata": {},
   "outputs": [],
   "source": [
    "tf_idf_bow_2 = tf_vectorizer_test.fit_transform(work_data_test['title_and_description'])"
   ]
  },
  {
   "cell_type": "code",
   "execution_count": 39,
   "metadata": {},
   "outputs": [],
   "source": [
    "test_bow = tf_vectorizer_test.transform(test['title_and_description'])"
   ]
  },
  {
   "cell_type": "code",
   "execution_count": 40,
   "metadata": {},
   "outputs": [],
   "source": [
    "indexes = np.array(test['itemid'])"
   ]
  },
  {
   "cell_type": "code",
   "execution_count": 41,
   "metadata": {},
   "outputs": [],
   "source": [
    "clf = SGDClassifier()"
   ]
  },
  {
   "cell_type": "code",
   "execution_count": 45,
   "metadata": {},
   "outputs": [],
   "source": [
    "X_train, X_test, y_train, y_test = train_test_split(tf_idf_bow_2, work_data_test['Category'], test_size=0.2, random_state=42)"
   ]
  },
  {
   "cell_type": "code",
   "execution_count": 60,
   "metadata": {},
   "outputs": [],
   "source": [
    "lr = LogisticRegression(max_iter = 1000, C = 3)"
   ]
  },
  {
   "cell_type": "code",
   "execution_count": 61,
   "metadata": {},
   "outputs": [
    {
     "data": {
      "text/plain": [
       "LogisticRegression(C=3, max_iter=1000)"
      ]
     },
     "execution_count": 61,
     "metadata": {},
     "output_type": "execute_result"
    }
   ],
   "source": [
    "lr.fit(X_train, y_train)"
   ]
  },
  {
   "cell_type": "code",
   "execution_count": 55,
   "metadata": {},
   "outputs": [],
   "source": [
    "answers = lr.predict(test_bow)"
   ]
  },
  {
   "cell_type": "code",
   "execution_count": 134,
   "metadata": {},
   "outputs": [],
   "source": [
    "my_file = open(\"submission.csv\", \"w\")\n",
    "my_file.write('Id,Category\\n')\n",
    "for i in range(len(answers)):\n",
    "    my_file.write(str(indexes[i]) + ','+ str(answers[i]) + '\\n')\n",
    "my_file.close()"
   ]
  },
  {
   "cell_type": "code",
   "execution_count": null,
   "metadata": {},
   "outputs": [],
   "source": []
  }
 ],
 "metadata": {
  "kernelspec": {
   "display_name": "Python 3",
   "language": "python",
   "name": "python3"
  },
  "language_info": {
   "codemirror_mode": {
    "name": "ipython",
    "version": 3
   },
   "file_extension": ".py",
   "mimetype": "text/x-python",
   "name": "python",
   "nbconvert_exporter": "python",
   "pygments_lexer": "ipython3",
   "version": "3.8.5"
  }
 },
 "nbformat": 4,
 "nbformat_minor": 2
}
