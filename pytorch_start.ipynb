{
  "nbformat": 4,
  "nbformat_minor": 0,
  "metadata": {
    "colab": {
      "name": "\"Entrance_test_Gogarev.ipynb\"",
      "provenance": [],
      "collapsed_sections": []
    },
    "kernelspec": {
      "name": "python3",
      "display_name": "Python 3"
    },
    "language_info": {
      "name": "python"
    }
  },
  "cells": [
    {
      "cell_type": "markdown",
      "metadata": {
        "id": "XwaovnKot-4O"
      },
      "source": [
        "# Pytorch Basics - Tensors\n",
        "\n"
      ]
    },
    {
      "cell_type": "markdown",
      "metadata": {
        "id": "NSEMQ1Xgzu40"
      },
      "source": [
        "Dear students, let me introduce this basic test that should assess your knowledge and experience in working with Pytorch and numpy-like tensors. If it is the first time when you hear about Pytorch you should not be frightened. Before each problem set, I will give some short examples of how Pytorch works and it should be enough for solving these problems. But if you need more information and examples you can find additional materials in [Pytorch Tutorials](https://pytorch.org/tutorials/), especially you can consider these links:\n",
        "\n",
        "\n",
        "*   [Learn the Basics](https://pytorch.org/tutorials/beginner/basics/intro.html)\n",
        "*   [Learning Pytorch with Examples](https://pytorch.org/tutorials/beginner/pytorch_with_examples.html)\n",
        "*   [Tensors](https://pytorch.org/tutorials/beginner/basics/tensorqs_tutorial.html)\n",
        "\n"
      ]
    },
    {
      "cell_type": "markdown",
      "metadata": {
        "id": "cFZW_bbFt4wh"
      },
      "source": [
        "## Tensors"
      ]
    },
    {
      "cell_type": "code",
      "metadata": {
        "id": "vmhl-dtjssnX"
      },
      "source": [
        "# Importing essential libraries\n",
        "import numpy as np\n",
        "import torch"
      ],
      "execution_count": 262,
      "outputs": []
    },
    {
      "cell_type": "markdown",
      "metadata": {
        "id": "cLa6Uoz9NTYE"
      },
      "source": [
        "## 1. Initializing a Tensor"
      ]
    },
    {
      "cell_type": "code",
      "metadata": {
        "id": "piJH__YytCy7",
        "colab": {
          "base_uri": "https://localhost:8080/"
        },
        "outputId": "32fc4668-1e01-452b-cb74-c2be0a4ad3b3"
      },
      "source": [
        "# By Python list\n",
        "x = torch.tensor([[1, 2, 3], [4, 5, 6]])\n",
        "print(x)"
      ],
      "execution_count": 263,
      "outputs": [
        {
          "output_type": "stream",
          "text": [
            "tensor([[1, 2, 3],\n",
            "        [4, 5, 6]])\n"
          ],
          "name": "stdout"
        }
      ]
    },
    {
      "cell_type": "code",
      "metadata": {
        "colab": {
          "base_uri": "https://localhost:8080/"
        },
        "id": "ZWHoFdWXtLF4",
        "outputId": "7f279c2a-51f9-43e8-ceb8-83da18423b39"
      },
      "source": [
        "# By numpy array\n",
        "x_numpy = np.array([[4, 5, 6], [1, 2, 3]])\n",
        "x = torch.from_numpy(x_numpy)\n",
        "print(x)"
      ],
      "execution_count": 264,
      "outputs": [
        {
          "output_type": "stream",
          "text": [
            "tensor([[4, 5, 6],\n",
            "        [1, 2, 3]])\n"
          ],
          "name": "stdout"
        }
      ]
    },
    {
      "cell_type": "code",
      "metadata": {
        "colab": {
          "base_uri": "https://localhost:8080/"
        },
        "id": "LNR39NxMWIIK",
        "outputId": "1f8e745e-c0a2-4266-f62a-6a61585be936"
      },
      "source": [
        "# You can specify the type of data\n",
        "x = torch.tensor([[1, 2, 3], [4, 5, 6]], dtype=torch.float)\n",
        "print(x)"
      ],
      "execution_count": 265,
      "outputs": [
        {
          "output_type": "stream",
          "text": [
            "tensor([[1., 2., 3.],\n",
            "        [4., 5., 6.]])\n"
          ],
          "name": "stdout"
        }
      ]
    },
    {
      "cell_type": "code",
      "metadata": {
        "id": "ehWAuITTDZ8N",
        "colab": {
          "base_uri": "https://localhost:8080/"
        },
        "outputId": "7efb5058-5bc1-4075-c738-9dc0496f8a1b"
      },
      "source": [
        "# Important attributes of tensor\n",
        "print(\"Shape of tensor:\\n\", x.shape)\n",
        "print(\"Datatype of tensor:\\n\", x.dtype)"
      ],
      "execution_count": 266,
      "outputs": [
        {
          "output_type": "stream",
          "text": [
            "Shape of tensor:\n",
            " torch.Size([2, 3])\n",
            "Datatype of tensor:\n",
            " torch.float32\n"
          ],
          "name": "stdout"
        }
      ]
    },
    {
      "cell_type": "code",
      "metadata": {
        "colab": {
          "base_uri": "https://localhost:8080/"
        },
        "id": "KToZFqYatL_k",
        "outputId": "f72a22ff-9498-4121-c172-a9ea9b24e6ef"
      },
      "source": [
        "# You can create basic tensors directly\n",
        "shape = (2,3,)\n",
        "ones = torch.ones(shape)\n",
        "zeros = torch.zeros(shape)\n",
        "rands = torch.rand(shape)\n",
        "print(\"ones:\\n\", ones)\n",
        "print(\"zeros:\\n\", zeros)\n",
        "print(\"random numbers:\\n\", rands)"
      ],
      "execution_count": 267,
      "outputs": [
        {
          "output_type": "stream",
          "text": [
            "ones:\n",
            " tensor([[1., 1., 1.],\n",
            "        [1., 1., 1.]])\n",
            "zeros:\n",
            " tensor([[0., 0., 0.],\n",
            "        [0., 0., 0.]])\n",
            "random numbers:\n",
            " tensor([[0.7050, 0.3638, 0.2942],\n",
            "        [0.9267, 0.7532, 0.2771]])\n"
          ],
          "name": "stdout"
        }
      ]
    },
    {
      "cell_type": "code",
      "metadata": {
        "id": "bJ1iWovNtN38",
        "colab": {
          "base_uri": "https://localhost:8080/"
        },
        "outputId": "3431516a-48f7-4fef-aa1c-5d93a8be0bf4"
      },
      "source": [
        "# Instead of specifying the shape directly you can specify it by a tensor's shape.\n",
        "x = torch.tensor([[1, 2], [3, 4]], dtype=torch.float)\n",
        "ones = torch.ones_like(x)\n",
        "zeros = torch.zeros_like(x)\n",
        "rands = torch.rand_like(x)\n",
        "print(\"ones:\\n\", ones)\n",
        "print(\"zeros:\\n\", zeros)\n",
        "print(\"random numbers:\\n\", rands)"
      ],
      "execution_count": 268,
      "outputs": [
        {
          "output_type": "stream",
          "text": [
            "ones:\n",
            " tensor([[1., 1.],\n",
            "        [1., 1.]])\n",
            "zeros:\n",
            " tensor([[0., 0.],\n",
            "        [0., 0.]])\n",
            "random numbers:\n",
            " tensor([[0.2567, 0.7786],\n",
            "        [0.9670, 0.6493]])\n"
          ],
          "name": "stdout"
        }
      ]
    },
    {
      "cell_type": "code",
      "metadata": {
        "colab": {
          "base_uri": "https://localhost:8080/"
        },
        "id": "J-oHAaP6cfQE",
        "outputId": "1c3ad649-6549-4b11-b13b-3b060df681f0"
      },
      "source": [
        "# You can initialize more interesting tensors\n",
        "diagonal = torch.diag(torch.tensor([1, 2, 3]))\n",
        "eye = torch.eye(3)\n",
        "x_range = torch.arange(10)\n",
        "print(\"diagonal matrix:\\n\", diagonal)\n",
        "print(\"identity matrix:\\n\", eye)\n",
        "print(\"range vector:\\n\", x_range)"
      ],
      "execution_count": 269,
      "outputs": [
        {
          "output_type": "stream",
          "text": [
            "diagonal matrix:\n",
            " tensor([[1, 0, 0],\n",
            "        [0, 2, 0],\n",
            "        [0, 0, 3]])\n",
            "identity matrix:\n",
            " tensor([[1., 0., 0.],\n",
            "        [0., 1., 0.],\n",
            "        [0., 0., 1.]])\n",
            "range vector:\n",
            " tensor([0, 1, 2, 3, 4, 5, 6, 7, 8, 9])\n"
          ],
          "name": "stdout"
        }
      ]
    },
    {
      "cell_type": "markdown",
      "metadata": {
        "id": "OEcqlFKvrbGJ"
      },
      "source": [
        "### Function for validating solutions"
      ]
    },
    {
      "cell_type": "code",
      "metadata": {
        "id": "OQIGpmIeFAU0"
      },
      "source": [
        "# Your solutions will be validated using this function\n",
        "def validate_solution(student_answer, correct_answer, test_num):\n",
        "    x = student_answer\n",
        "    y = correct_answer\n",
        "    if y.shape == x.shape and torch.allclose(y, x, atol=1e-4):\n",
        "        print(f\"Test {test_num} passed!\")\n",
        "    else:\n",
        "        raise AssertionError(f\"Test {test_num} failed!\")"
      ],
      "execution_count": 270,
      "outputs": []
    },
    {
      "cell_type": "markdown",
      "metadata": {
        "id": "EgZ96J2gbv7K"
      },
      "source": [
        "### Problem 1.1"
      ]
    },
    {
      "cell_type": "markdown",
      "metadata": {
        "id": "4YMF0IRR62u3"
      },
      "source": [
        "Write a function **diag_range_matrix** that takes $n$ and returns the diagonal matrix $\\quad\n",
        "\\begin{pmatrix}\n",
        "1 & 0 & \\dots & 0 \\\\\n",
        "0 & 2 & \\dots & 0 \\\\\n",
        "\\vdots & \\vdots & \\ddots & \\vdots \\\\\n",
        "0 & 0 & \\dots & n\n",
        "\\end{pmatrix}\n",
        "$ with type *float torch.Tensor*. "
      ]
    },
    {
      "cell_type": "code",
      "metadata": {
        "id": "jULmsV8gco6_"
      },
      "source": [
        "def diag_range_matrix(n):\n",
        "    return torch.diag(torch.arange(1, n + 1, dtype=torch.float))"
      ],
      "execution_count": 271,
      "outputs": []
    },
    {
      "cell_type": "code",
      "metadata": {
        "colab": {
          "base_uri": "https://localhost:8080/"
        },
        "id": "3g8xVcm_cvBz",
        "outputId": "ce81a9bb-b519-4efe-dee5-43f7afa8212f"
      },
      "source": [
        "# Test 1\n",
        "output = diag_range_matrix(2)\n",
        "correct = torch.tensor([[1, 0], [0, 2]], dtype=torch.float)\n",
        "validate_solution(output, correct, test_num=1)\n",
        "\n",
        "\n",
        "# Test 2\n",
        "output = diag_range_matrix(5)\n",
        "correct = torch.tensor(\n",
        "    [[1, 0, 0, 0, 0],\n",
        "    [0, 2, 0, 0, 0],\n",
        "    [0, 0, 3, 0, 0],\n",
        "    [0, 0, 0, 4, 0],\n",
        "    [0, 0, 0, 0, 5]], \n",
        "    dtype=torch.float\n",
        ")\n",
        "validate_solution(output, correct, test_num=2)"
      ],
      "execution_count": 272,
      "outputs": [
        {
          "output_type": "stream",
          "text": [
            "Test 1 passed!\n",
            "Test 2 passed!\n"
          ],
          "name": "stdout"
        }
      ]
    },
    {
      "cell_type": "markdown",
      "metadata": {
        "id": "9Tn9W3lTG3QY"
      },
      "source": [
        "### Problem 1.2"
      ]
    },
    {
      "cell_type": "markdown",
      "metadata": {
        "id": "BftBHAu09GCj"
      },
      "source": [
        "Write a function **my_eye** (without using torch.eye) that takes $n$ and returns the identity matrix of size $n$ with type *float torch.Tensor*. "
      ]
    },
    {
      "cell_type": "code",
      "metadata": {
        "id": "Cuqa5lyZHBFa"
      },
      "source": [
        "def my_eye(n):\n",
        "  return torch.diag(torch.ones(n, dtype=torch.float))"
      ],
      "execution_count": 273,
      "outputs": []
    },
    {
      "cell_type": "code",
      "metadata": {
        "colab": {
          "base_uri": "https://localhost:8080/"
        },
        "id": "fJuYvIZ7Hfgh",
        "outputId": "f19b9528-9a53-459d-887f-fc1f9a5c0a59"
      },
      "source": [
        "# Test 1\n",
        "output = my_eye(2)\n",
        "correct = torch.tensor([[1, 0], [0, 1]], dtype=torch.float)\n",
        "validate_solution(output, correct, test_num=1)\n",
        "\n",
        "# Test 2\n",
        "output = my_eye(5)\n",
        "correct = torch.tensor(\n",
        "    [[1, 0, 0, 0, 0],\n",
        "    [0, 1, 0, 0, 0],\n",
        "    [0, 0, 1, 0, 0],\n",
        "    [0, 0, 0, 1, 0],\n",
        "    [0, 0, 0, 0, 1]], \n",
        "    dtype=torch.float\n",
        ")\n",
        "validate_solution(output, correct, test_num=2)"
      ],
      "execution_count": 274,
      "outputs": [
        {
          "output_type": "stream",
          "text": [
            "Test 1 passed!\n",
            "Test 2 passed!\n"
          ],
          "name": "stdout"
        }
      ]
    },
    {
      "cell_type": "markdown",
      "metadata": {
        "id": "UytbMl9tXy1W"
      },
      "source": [
        "## 2. Indexing, slicing and reshaping"
      ]
    },
    {
      "cell_type": "markdown",
      "metadata": {
        "id": "tq0_4SxPrhcP"
      },
      "source": [
        "### Indexing and slicing"
      ]
    },
    {
      "cell_type": "code",
      "metadata": {
        "colab": {
          "base_uri": "https://localhost:8080/"
        },
        "id": "v3GamDZYWZmS",
        "outputId": "55a4a5c7-c41f-4523-fbbf-17a92231712b"
      },
      "source": [
        "# You can index and slice Pytorch tensors like Python lists and numpy arrays\n",
        "x = torch.ones(4, 4)\n",
        "print(\"First row:\\n\",x[0])\n",
        "print(\"First column:\\n\", x[:, 0])\n",
        "print(\"Last column:\\n\", x[..., -1])\n",
        "x[:,1] = 0\n",
        "print(\"x modified:\\n\", x)"
      ],
      "execution_count": 275,
      "outputs": [
        {
          "output_type": "stream",
          "text": [
            "First row:\n",
            " tensor([1., 1., 1., 1.])\n",
            "First column:\n",
            " tensor([1., 1., 1., 1.])\n",
            "Last column:\n",
            " tensor([1., 1., 1., 1.])\n",
            "x modified:\n",
            " tensor([[1., 0., 1., 1.],\n",
            "        [1., 0., 1., 1.],\n",
            "        [1., 0., 1., 1.],\n",
            "        [1., 0., 1., 1.]])\n"
          ],
          "name": "stdout"
        }
      ]
    },
    {
      "cell_type": "markdown",
      "metadata": {
        "id": "Hf1HQUadrmus"
      },
      "source": [
        "### Reshaping and transposing"
      ]
    },
    {
      "cell_type": "code",
      "metadata": {
        "id": "P1k4qPMphjUb",
        "colab": {
          "base_uri": "https://localhost:8080/"
        },
        "outputId": "9758cbd7-2461-447f-a5af-a886c354d6bb"
      },
      "source": [
        "# You can change the shape of tensors by reshape() function\n",
        "x = torch.ones(4, 4)\n",
        "y = torch.arange(1, 10)\n",
        "\n",
        "z1 = x.reshape(2, 8)\n",
        "z2 = x.reshape(16, 1)\n",
        "z3 = x.reshape(1, -1)\n",
        "z4 = x.flatten()  # flat your tensor\n",
        "\n",
        "z5 = y.reshape(3, 3)\n",
        "z6 = z5.T\n",
        "\n",
        "print(\"z1:\\n\", z1)\n",
        "print(\"z2:\\n\", z2)\n",
        "print(\"z3:\\n\", z3)\n",
        "print(\"z4:\\n\", z4)\n",
        "print(\"z5:\\n\", z5)\n",
        "print(\"z6:\\n\", z6)"
      ],
      "execution_count": 276,
      "outputs": [
        {
          "output_type": "stream",
          "text": [
            "z1:\n",
            " tensor([[1., 1., 1., 1., 1., 1., 1., 1.],\n",
            "        [1., 1., 1., 1., 1., 1., 1., 1.]])\n",
            "z2:\n",
            " tensor([[1.],\n",
            "        [1.],\n",
            "        [1.],\n",
            "        [1.],\n",
            "        [1.],\n",
            "        [1.],\n",
            "        [1.],\n",
            "        [1.],\n",
            "        [1.],\n",
            "        [1.],\n",
            "        [1.],\n",
            "        [1.],\n",
            "        [1.],\n",
            "        [1.],\n",
            "        [1.],\n",
            "        [1.]])\n",
            "z3:\n",
            " tensor([[1., 1., 1., 1., 1., 1., 1., 1., 1., 1., 1., 1., 1., 1., 1., 1.]])\n",
            "z4:\n",
            " tensor([1., 1., 1., 1., 1., 1., 1., 1., 1., 1., 1., 1., 1., 1., 1., 1.])\n",
            "z5:\n",
            " tensor([[1, 2, 3],\n",
            "        [4, 5, 6],\n",
            "        [7, 8, 9]])\n",
            "z6:\n",
            " tensor([[1, 4, 7],\n",
            "        [2, 5, 8],\n",
            "        [3, 6, 9]])\n"
          ],
          "name": "stdout"
        }
      ]
    },
    {
      "cell_type": "markdown",
      "metadata": {
        "id": "04FVfps_rrjV"
      },
      "source": [
        "### Advanced indexing"
      ]
    },
    {
      "cell_type": "code",
      "metadata": {
        "colab": {
          "base_uri": "https://localhost:8080/"
        },
        "id": "U14TMtvGtfTG",
        "outputId": "0cc6f0af-5dbf-4058-8b48-b344e389e31a"
      },
      "source": [
        "# You can index your tensor by a list of indices\n",
        "x = torch.arange(16).reshape(4, 4)\n",
        "\n",
        "z1 = x[[1, 3], :]\n",
        "z2 = x[:, [0, 2]]\n",
        "z3 = x[[1, 3], [0, 2]]\n",
        "z4 = x[::2, :]\n",
        "z5 = x[1:3, :2]\n",
        "z6 = x[1:3, [1, 3]]\n",
        "z7 = x.flip(0)  # revert your tensor along 1st dimension\n",
        "z8 = x.flip(1)  # revert your tensor along 2nd dimension\n",
        "\n",
        "print(\"x:\\n\", x)\n",
        "print(\"z1:\\n\", z1)\n",
        "print(\"z2:\\n\", z2)\n",
        "print(\"z3:\\n\", z3)\n",
        "print(\"z4:\\n\", z4)\n",
        "print(\"z5:\\n\", z5)\n",
        "print(\"z6:\\n\", z6)\n",
        "print(\"z7:\\n\", z7)\n",
        "print(\"z8:\\n\", z8)"
      ],
      "execution_count": 277,
      "outputs": [
        {
          "output_type": "stream",
          "text": [
            "x:\n",
            " tensor([[ 0,  1,  2,  3],\n",
            "        [ 4,  5,  6,  7],\n",
            "        [ 8,  9, 10, 11],\n",
            "        [12, 13, 14, 15]])\n",
            "z1:\n",
            " tensor([[ 4,  5,  6,  7],\n",
            "        [12, 13, 14, 15]])\n",
            "z2:\n",
            " tensor([[ 0,  2],\n",
            "        [ 4,  6],\n",
            "        [ 8, 10],\n",
            "        [12, 14]])\n",
            "z3:\n",
            " tensor([ 4, 14])\n",
            "z4:\n",
            " tensor([[ 0,  1,  2,  3],\n",
            "        [ 8,  9, 10, 11]])\n",
            "z5:\n",
            " tensor([[4, 5],\n",
            "        [8, 9]])\n",
            "z6:\n",
            " tensor([[ 5,  7],\n",
            "        [ 9, 11]])\n",
            "z7:\n",
            " tensor([[12, 13, 14, 15],\n",
            "        [ 8,  9, 10, 11],\n",
            "        [ 4,  5,  6,  7],\n",
            "        [ 0,  1,  2,  3]])\n",
            "z8:\n",
            " tensor([[ 3,  2,  1,  0],\n",
            "        [ 7,  6,  5,  4],\n",
            "        [11, 10,  9,  8],\n",
            "        [15, 14, 13, 12]])\n"
          ],
          "name": "stdout"
        }
      ]
    },
    {
      "cell_type": "markdown",
      "metadata": {
        "id": "AlAcoaY4rwIl"
      },
      "source": [
        "### Copying tensors"
      ]
    },
    {
      "cell_type": "code",
      "metadata": {
        "colab": {
          "base_uri": "https://localhost:8080/"
        },
        "id": "OqE72qup6YHq",
        "outputId": "b4605089-c2fa-4ea2-c25c-f807ddf1adcf"
      },
      "source": [
        "# You should be cautious when you use the operator \"=\" because it makes a shallow copy\n",
        "# If you want a deep copy you should use clone() function \n",
        "x = torch.ones((2, 3))\n",
        "\n",
        "y = x\n",
        "z = x.clone()\n",
        "\n",
        "x[0] = 0\n",
        "\n",
        "print(\"x:\\n\", x)\n",
        "print(\"y:\\n\", y)\n",
        "print(\"z:\\n\", z)"
      ],
      "execution_count": 278,
      "outputs": [
        {
          "output_type": "stream",
          "text": [
            "x:\n",
            " tensor([[0., 0., 0.],\n",
            "        [1., 1., 1.]])\n",
            "y:\n",
            " tensor([[0., 0., 0.],\n",
            "        [1., 1., 1.]])\n",
            "z:\n",
            " tensor([[1., 1., 1.],\n",
            "        [1., 1., 1.]])\n"
          ],
          "name": "stdout"
        }
      ]
    },
    {
      "cell_type": "markdown",
      "metadata": {
        "id": "4B3yMFtsH6LD"
      },
      "source": [
        "### Problem 2.1"
      ]
    },
    {
      "cell_type": "markdown",
      "metadata": {
        "id": "cVmT4KNmkP4A"
      },
      "source": [
        "Write a function **zebra_matrix** that takes $m, n, dim$ and returns the matrix of size $m\\times n$ with type *float torch.Tensor* that consists of ones and zeros. \n",
        "\n",
        "For $dim = 0$ the matrix should be like $\\quad\n",
        "\\begin{pmatrix}\n",
        "1 & 0 & 1 & \\dots \\\\\n",
        "1 & 0 & 1 & \\dots \\\\\n",
        "\\vdots & \\vdots & \\ddots \\\\\n",
        "1 & 0 & 1 & \\dots\n",
        "\\end{pmatrix}\n",
        "$. \n",
        "\n",
        "For $dim = 1$ the matrix should be like $\\quad\n",
        "\\begin{pmatrix}\n",
        "1 & 1 & \\dots & 1 \\\\\n",
        "0 & 0 & \\dots & 0 \\\\\n",
        "1 & 1 & \\dots & 1\\\\\n",
        "\\vdots & \\vdots & \\ddots & \\vdots\n",
        "\\end{pmatrix}\n",
        "$. "
      ]
    },
    {
      "cell_type": "code",
      "metadata": {
        "id": "7gZNldG9H9-h"
      },
      "source": [
        "def zebra_matrix(m, n, dim):\n",
        "    x = torch.ones((m, n))\n",
        "    if dim == 0:\n",
        "      x[..., 1::2] = 0\n",
        "    elif dim == 1:\n",
        "      x[1::2, ...] = 0\n",
        "    return x"
      ],
      "execution_count": 279,
      "outputs": []
    },
    {
      "cell_type": "code",
      "metadata": {
        "colab": {
          "base_uri": "https://localhost:8080/"
        },
        "id": "7AzsCTjoH9t6",
        "outputId": "3f84b6a8-4da6-4970-d0d4-360780576e35"
      },
      "source": [
        "# Test 1\n",
        "output = zebra_matrix(5, 4, 0)\n",
        "correct = torch.tensor(\n",
        "    [[1., 0., 1., 0.],\n",
        "    [1., 0., 1., 0.],\n",
        "    [1., 0., 1., 0.],\n",
        "    [1., 0., 1., 0.],\n",
        "    [1., 0., 1., 0.]], \n",
        "    dtype=torch.float\n",
        ")\n",
        "validate_solution(output, correct, test_num=1)\n",
        "\n",
        "# Test 2\n",
        "output = zebra_matrix(5, 4, 1)\n",
        "correct = torch.tensor(\n",
        "    [[1., 1., 1., 1.],\n",
        "    [0., 0., 0., 0.],\n",
        "    [1., 1., 1., 1.],\n",
        "    [0., 0., 0., 0.],\n",
        "    [1., 1., 1., 1.]], \n",
        "    dtype=torch.float\n",
        ")\n",
        "validate_solution(output, correct, test_num=2)"
      ],
      "execution_count": 280,
      "outputs": [
        {
          "output_type": "stream",
          "text": [
            "Test 1 passed!\n",
            "Test 2 passed!\n"
          ],
          "name": "stdout"
        }
      ]
    },
    {
      "cell_type": "markdown",
      "metadata": {
        "id": "GNlgNwmRKITX"
      },
      "source": [
        "### Problem 2.2"
      ]
    },
    {
      "cell_type": "markdown",
      "metadata": {
        "id": "KdYEHx1El1vy"
      },
      "source": [
        "Write a function **zero_diag** that takes a matrix $x$ and returns the matrix $y$ with zeros in the diagonal and the same elements as in $x$ off the diagonal.\n",
        "\n"
      ]
    },
    {
      "cell_type": "code",
      "metadata": {
        "id": "GZP0PuasIWiw"
      },
      "source": [
        "def zero_diag(x):\n",
        "  dim1 = x.shape[0]\n",
        "  dim2 = x.shape[1]\n",
        "  x = x.flatten()\n",
        "  x[torch.arange(0, dim1 * dim2, dim1 + 1)] = 0\n",
        "  x = x.reshape(dim1, dim2)\n",
        "\n",
        "  return x"
      ],
      "execution_count": 281,
      "outputs": []
    },
    {
      "cell_type": "code",
      "metadata": {
        "colab": {
          "base_uri": "https://localhost:8080/"
        },
        "id": "lc5EEYB6IWVK",
        "outputId": "c0b66e0a-f701-4183-fd9b-1a6808f8ada8"
      },
      "source": [
        "# Test 1\n",
        "output = zero_diag(torch.ones(2, 2))\n",
        "correct = torch.tensor(\n",
        "    [[0., 1.],\n",
        "    [1., 0.]], \n",
        "    dtype=torch.float\n",
        ")\n",
        "validate_solution(output, correct, test_num=1)\n",
        "\n",
        "# Test 2\n",
        "output = zero_diag(torch.ones(5, 5))\n",
        "correct = torch.tensor(\n",
        "    [[0., 1., 1., 1., 1.],\n",
        "    [1., 0., 1., 1., 1.],\n",
        "    [1., 1., 0., 1., 1.],\n",
        "    [1., 1., 1., 0., 1.],\n",
        "    [1., 1., 1., 1., 0.]], \n",
        "    dtype=torch.float\n",
        ")\n",
        "validate_solution(output, correct, test_num=2)"
      ],
      "execution_count": 282,
      "outputs": [
        {
          "output_type": "stream",
          "text": [
            "Test 1 passed!\n",
            "Test 2 passed!\n"
          ],
          "name": "stdout"
        }
      ]
    },
    {
      "cell_type": "markdown",
      "metadata": {
        "id": "5YlvsidGKKOj"
      },
      "source": [
        "### Problem 2.3"
      ]
    },
    {
      "cell_type": "markdown",
      "metadata": {
        "id": "ULahZZCOmYlG"
      },
      "source": [
        "Write a function **zero_off_diag** that takes a matrix $x$ and returns the matrix $y$ with zeros off the diagonal and the same elements as in $x$ in the diagonal."
      ]
    },
    {
      "cell_type": "code",
      "metadata": {
        "id": "8hv-2cEvIy3Y"
      },
      "source": [
        "def zero_off_diag(x):\n",
        "  dim1 = x.shape[0]\n",
        "  dim2 = x.shape[1]\n",
        "  x = x.flatten()\n",
        "  diag = x[torch.arange(0, dim1 * dim2, dim1 + 1)]\n",
        "  return torch.diag(diag)\n",
        "\n",
        "  return x"
      ],
      "execution_count": 283,
      "outputs": []
    },
    {
      "cell_type": "code",
      "metadata": {
        "colab": {
          "base_uri": "https://localhost:8080/"
        },
        "id": "5OhBjHCXIysL",
        "outputId": "b2e05ffc-e04f-4ff9-98eb-22295b9bfc0b"
      },
      "source": [
        "# Test 1\n",
        "output = zero_off_diag(torch.ones(2, 2))\n",
        "correct = torch.tensor(\n",
        "    [[1., 0.],\n",
        "    [0., 1.]], \n",
        "    dtype=torch.float\n",
        ")\n",
        "validate_solution(output, correct, test_num=1)\n",
        "\n",
        "# Test 2\n",
        "output = zero_off_diag(torch.ones(5, 5))\n",
        "correct = torch.tensor(\n",
        "    [[1., 0., 0., 0., 0.],\n",
        "    [0., 1., 0., 0., 0.],\n",
        "    [0., 0., 1., 0., 0.],\n",
        "    [0., 0., 0., 1., 0.],\n",
        "    [0., 0., 0., 0., 1.]], \n",
        "    dtype=torch.float\n",
        ")\n",
        "validate_solution(output, correct, test_num=2)"
      ],
      "execution_count": 284,
      "outputs": [
        {
          "output_type": "stream",
          "text": [
            "Test 1 passed!\n",
            "Test 2 passed!\n"
          ],
          "name": "stdout"
        }
      ]
    },
    {
      "cell_type": "markdown",
      "metadata": {
        "id": "TrtpwM6BKMLA"
      },
      "source": [
        "### Problem 2.4"
      ]
    },
    {
      "cell_type": "markdown",
      "metadata": {
        "id": "6_a3CfHTmr5Z"
      },
      "source": [
        "Write a function **descending_numbers** that takes $m, n$ and returns the matrix of size $m\\times n$ $\\quad$ \n",
        "\\begin{pmatrix} \n",
        "m \\cdot n & m \\cdot n - 1 & \\dots & m \\cdot n - n + 1 \\\\\n",
        "(m - 1) \\cdot n & (m - 1) \\cdot n - 1 & \\dots & (m - 1) \\cdot n - n + 1 \\\\\n",
        "\\vdots & \\vdots & \\ddots & \\vdots \\\\\n",
        "n & n - 1 & \\dots & 1\n",
        "\\end{pmatrix} with type *float torch.Tensor*.\n",
        "\n"
      ]
    },
    {
      "cell_type": "code",
      "metadata": {
        "id": "grM1TepyJSuI"
      },
      "source": [
        "def descending_numbers(m, n):\n",
        "  return torch.arange(1, m*n + 1, dtype=torch.float).reshape(m, n).flip(1).flip(0)\n",
        "    "
      ],
      "execution_count": 285,
      "outputs": []
    },
    {
      "cell_type": "code",
      "metadata": {
        "colab": {
          "base_uri": "https://localhost:8080/"
        },
        "id": "hqsjAtu9JSix",
        "outputId": "38b9cd96-def6-42dc-cb3b-4e2ee9874ef0"
      },
      "source": [
        "# Test 1\n",
        "output = descending_numbers(2, 3)\n",
        "correct = torch.tensor(\n",
        "    [[6, 5, 4],\n",
        "    [3, 2, 1]], \n",
        "    dtype=torch.float\n",
        ")\n",
        "validate_solution(output, correct, test_num=1)\n",
        "\n",
        "# Test 2\n",
        "output = descending_numbers(5, 4)\n",
        "correct = torch.tensor(\n",
        "    [[20, 19, 18, 17],\n",
        "    [16, 15, 14, 13],\n",
        "    [12, 11, 10,  9],\n",
        "    [ 8,  7,  6,  5],\n",
        "    [ 4,  3,  2,  1]], \n",
        "    dtype=torch.float\n",
        ")\n",
        "validate_solution(output, correct, test_num=2)"
      ],
      "execution_count": 286,
      "outputs": [
        {
          "output_type": "stream",
          "text": [
            "Test 1 passed!\n",
            "Test 2 passed!\n"
          ],
          "name": "stdout"
        }
      ]
    },
    {
      "cell_type": "markdown",
      "metadata": {
        "id": "1ifX9DhhKODE"
      },
      "source": [
        "### Problem 2.5"
      ]
    },
    {
      "cell_type": "markdown",
      "metadata": {
        "id": "rXYuuEzZn1jp"
      },
      "source": [
        "Write a function **anti_diag_matrix** that takes a vector $x = (x_1, \\dots, x_n)$ and returns the anti-diagonal matrix $\\quad\n",
        "\\begin{pmatrix}\n",
        "0 & \\dots & 0 & x_1 \\\\\n",
        "0 & \\dots & x_2 & 0 \\\\\n",
        "\\vdots & \\vdots & \\ddots & \\vdots \\\\\n",
        "x_n & 0 & \\dots & n\n",
        "\\end{pmatrix}\n",
        "$ with type *float torch.Tensor*. "
      ]
    },
    {
      "cell_type": "code",
      "metadata": {
        "id": "humIUl3EJjog"
      },
      "source": [
        "def anti_diag_matrix(x):\n",
        "    return torch.diag(x.flip(0)).flip(0)"
      ],
      "execution_count": 287,
      "outputs": []
    },
    {
      "cell_type": "code",
      "metadata": {
        "colab": {
          "base_uri": "https://localhost:8080/"
        },
        "id": "Uo5v-W6oJjew",
        "outputId": "749d2f4d-260e-4337-9f63-de5332981bc4"
      },
      "source": [
        "# Test 1\n",
        "output = anti_diag_matrix(torch.tensor([1, 2], dtype=torch.float))\n",
        "correct = torch.tensor(\n",
        "    [[0., 1.],\n",
        "    [2., 0.]], \n",
        "    dtype=torch.float\n",
        ")\n",
        "validate_solution(output, correct, test_num=1)\n",
        "\n",
        "# Test 2\n",
        "output = anti_diag_matrix(torch.tensor([1, 2, 3, 4, 5], dtype=torch.float))\n",
        "correct = torch.tensor(\n",
        "    [[0., 0., 0., 0., 1.],\n",
        "    [0., 0., 0., 2., 0.],\n",
        "    [0., 0., 3., 0., 0.],\n",
        "    [0., 4., 0., 0., 0.],\n",
        "    [5., 0., 0., 0., 0.]], \n",
        "    dtype=torch.float\n",
        ")\n",
        "validate_solution(output, correct, test_num=2)"
      ],
      "execution_count": 288,
      "outputs": [
        {
          "output_type": "stream",
          "text": [
            "Test 1 passed!\n",
            "Test 2 passed!\n"
          ],
          "name": "stdout"
        }
      ]
    },
    {
      "cell_type": "markdown",
      "metadata": {
        "id": "mq6QYgjtr2fR"
      },
      "source": [
        "### Joining tensors"
      ]
    },
    {
      "cell_type": "code",
      "metadata": {
        "colab": {
          "base_uri": "https://localhost:8080/"
        },
        "id": "o27MuXEJX-KH",
        "outputId": "3db03d51-54f5-4690-d99d-cd47065b5e36"
      },
      "source": [
        "# You can concatenate (using torch.cat) and stack tensors to creating new tensors\n",
        "x = torch.ones((2, 3))\n",
        "y = torch.zeros((2, 3))\n",
        "\n",
        "z1 = torch.cat([x, y], dim=0)\n",
        "z2 = torch.cat([x, y], dim=1)\n",
        "z3 = torch.cat([x[0], y[0]], dim=0)\n",
        "z4 = torch.stack([x[0], y[0]])\n",
        "\n",
        "print(\"x:\\n\", x)\n",
        "print(\"y:\\n\", y)\n",
        "print(\"z1:\\n\", z1)\n",
        "print(\"z2:\\n\", z2)\n",
        "print(\"z3:\\n\", z3)\n",
        "print(\"z4:\\n\", z4)"
      ],
      "execution_count": 289,
      "outputs": [
        {
          "output_type": "stream",
          "text": [
            "x:\n",
            " tensor([[1., 1., 1.],\n",
            "        [1., 1., 1.]])\n",
            "y:\n",
            " tensor([[0., 0., 0.],\n",
            "        [0., 0., 0.]])\n",
            "z1:\n",
            " tensor([[1., 1., 1.],\n",
            "        [1., 1., 1.],\n",
            "        [0., 0., 0.],\n",
            "        [0., 0., 0.]])\n",
            "z2:\n",
            " tensor([[1., 1., 1., 0., 0., 0.],\n",
            "        [1., 1., 1., 0., 0., 0.]])\n",
            "z3:\n",
            " tensor([1., 1., 1., 0., 0., 0.])\n",
            "z4:\n",
            " tensor([[1., 1., 1.],\n",
            "        [0., 0., 0.]])\n"
          ],
          "name": "stdout"
        }
      ]
    },
    {
      "cell_type": "markdown",
      "metadata": {
        "id": "96paIllGKR4M"
      },
      "source": [
        "### Problem 2.6 (you can use one for/while loop)"
      ]
    },
    {
      "cell_type": "markdown",
      "metadata": {
        "id": "kdFOj5-4ol8c"
      },
      "source": [
        "Write a function **arange_matrix** that takes $m, n$ and returns the matrix of size $m\\times n$ $\\quad\n",
        "\\begin{pmatrix}\n",
        "1 & 2 & \\dots & n \\\\\n",
        "1 & 2 & \\dots & n \\\\\n",
        "\\vdots & \\vdots & \\ddots & \\vdots \\\\\n",
        "1 & 2 & \\dots & n\n",
        "\\end{pmatrix}\n",
        "$ with type *float torch.Tensor*. "
      ]
    },
    {
      "cell_type": "code",
      "metadata": {
        "id": "ky6SSbORKUps"
      },
      "source": [
        "def arange_matrix(m, n):\n",
        "  x = torch.ones((m, 1))\n",
        "  for i in range(2, n + 1):\n",
        "    x = torch.cat([x, torch.ones((m, 1)) * i], dim = 1)\n",
        "  return x\n",
        "  "
      ],
      "execution_count": 290,
      "outputs": []
    },
    {
      "cell_type": "code",
      "metadata": {
        "colab": {
          "base_uri": "https://localhost:8080/"
        },
        "id": "2dLcQ9o9KUhe",
        "outputId": "22726679-7573-48a0-9640-b70a58b7451e"
      },
      "source": [
        "# Test 1\n",
        "output = arange_matrix(2, 3)\n",
        "correct = torch.tensor(\n",
        "    [[1, 2, 3],\n",
        "    [1, 2, 3]], \n",
        "    dtype=torch.float\n",
        ")\n",
        "validate_solution(output, correct, test_num=1)\n",
        "\n",
        "# Test 2\n",
        "output = arange_matrix(5, 4)\n",
        "correct = torch.tensor(\n",
        "    [[1, 2, 3, 4],\n",
        "    [1, 2, 3, 4],\n",
        "    [1, 2, 3, 4],\n",
        "    [1, 2, 3, 4],\n",
        "    [1, 2, 3, 4]], \n",
        "    dtype=torch.float\n",
        ")\n",
        "validate_solution(output, correct, test_num=2)"
      ],
      "execution_count": 291,
      "outputs": [
        {
          "output_type": "stream",
          "text": [
            "Test 1 passed!\n",
            "Test 2 passed!\n"
          ],
          "name": "stdout"
        }
      ]
    },
    {
      "cell_type": "markdown",
      "metadata": {
        "id": "xO2MDgqCKm8g"
      },
      "source": [
        "## 3. Operations on Tensors"
      ]
    },
    {
      "cell_type": "markdown",
      "metadata": {
        "id": "I3soeWHYr657"
      },
      "source": [
        "### Matrix addition"
      ]
    },
    {
      "cell_type": "code",
      "metadata": {
        "colab": {
          "base_uri": "https://localhost:8080/"
        },
        "id": "YqbSQBrDaDNd",
        "outputId": "54c709e0-dfea-4f60-fc8e-8fe4e69f3e15"
      },
      "source": [
        "# You can add matrices using three different ways!\n",
        "x = torch.tensor([[1, 2, 3], [4, 5, 6]], dtype=torch.float)\n",
        "y = torch.tensor([[4, 5, 6], [1, 2, 3]], dtype=torch.float)\n",
        "\n",
        "z1 = x + y\n",
        "z2 = x.add(y)\n",
        "z3 = torch.rand_like(z2)\n",
        "torch.add(x, y, out=z3)\n",
        "\n",
        "print(\"z1:\\n\", z1)\n",
        "print(\"z2:\\n\", z2)\n",
        "print(\"z3:\\n\", z3)"
      ],
      "execution_count": 292,
      "outputs": [
        {
          "output_type": "stream",
          "text": [
            "z1:\n",
            " tensor([[5., 7., 9.],\n",
            "        [5., 7., 9.]])\n",
            "z2:\n",
            " tensor([[5., 7., 9.],\n",
            "        [5., 7., 9.]])\n",
            "z3:\n",
            " tensor([[5., 7., 9.],\n",
            "        [5., 7., 9.]])\n"
          ],
          "name": "stdout"
        }
      ]
    },
    {
      "cell_type": "markdown",
      "metadata": {
        "id": "FvJhSxTSsAME"
      },
      "source": [
        "### Matrix multiplication"
      ]
    },
    {
      "cell_type": "code",
      "metadata": {
        "colab": {
          "base_uri": "https://localhost:8080/"
        },
        "id": "GeotfM1JYMtJ",
        "outputId": "c8401c60-7ee2-4577-a337-0e4c75b9abab"
      },
      "source": [
        "# You can multiplicate matrices using three different ways!\n",
        "x = torch.tensor([[1, 2, 3], [4, 5, 6]], dtype=torch.float)\n",
        "y = torch.tensor([[1, 2], [3, 4], [5, 6]], dtype=torch.float)\n",
        "\n",
        "z1 = x @ y\n",
        "z2 = x.matmul(y)\n",
        "z3 = torch.rand_like(z2)\n",
        "torch.matmul(x, y, out=z3)\n",
        "\n",
        "print(\"z1:\\n\", z1)\n",
        "print(\"z2:\\n\", z2)\n",
        "print(\"z3:\\n\", z3)"
      ],
      "execution_count": 293,
      "outputs": [
        {
          "output_type": "stream",
          "text": [
            "z1:\n",
            " tensor([[22., 28.],\n",
            "        [49., 64.]])\n",
            "z2:\n",
            " tensor([[22., 28.],\n",
            "        [49., 64.]])\n",
            "z3:\n",
            " tensor([[22., 28.],\n",
            "        [49., 64.]])\n"
          ],
          "name": "stdout"
        }
      ]
    },
    {
      "cell_type": "markdown",
      "metadata": {
        "id": "uSlKwJELsDYO"
      },
      "source": [
        "### Element-wise operations"
      ]
    },
    {
      "cell_type": "code",
      "metadata": {
        "colab": {
          "base_uri": "https://localhost:8080/"
        },
        "id": "QsgdJ4jQZNgp",
        "outputId": "6f32c698-f3f1-4e66-ec02-ec2c835d25f4"
      },
      "source": [
        "# You can do many different element-wise operations\n",
        "x = torch.tensor([[1, 2, 3], [4, 5, 6]], dtype=torch.float)\n",
        "y = torch.tensor([[4, 5, 6], [1, 2, 3]], dtype=torch.float)\n",
        "\n",
        "z1 = x + 1\n",
        "z2 = x * 2\n",
        "z3 = x / 2\n",
        "z4 = x ** 2\n",
        "z5 = x * y\n",
        "z6 = x + torch.tensor([1, 2, 3])\n",
        "z7 = x + torch.tensor([[1], [2]])\n",
        "\n",
        "z8 = torch.exp(x)\n",
        "z9 = torch.log(x)\n",
        "z10 = torch.sqrt(x)\n",
        "\n",
        "z11 = x.exp()\n",
        "z12 = x.log()\n",
        "z13 = x.sqrt()\n",
        "\n",
        "print(\"z1:\\n\", z1)\n",
        "print(\"z2:\\n\", z2)\n",
        "print(\"z3:\\n\", z3)\n",
        "print(\"z4:\\n\", z4)\n",
        "print(\"z5:\\n\", z5)\n",
        "print(\"z6:\\n\", z6)\n",
        "print(\"z7:\\n\", z7)\n",
        "print(\"z8:\\n\", z8)\n",
        "print(\"z9:\\n\", z9)\n",
        "print(\"z10:\\n\", z10)\n",
        "print(\"z11:\\n\", z11)\n",
        "print(\"z12:\\n\", z12)\n",
        "print(\"z13:\\n\", z13)\n"
      ],
      "execution_count": 294,
      "outputs": [
        {
          "output_type": "stream",
          "text": [
            "z1:\n",
            " tensor([[2., 3., 4.],\n",
            "        [5., 6., 7.]])\n",
            "z2:\n",
            " tensor([[ 2.,  4.,  6.],\n",
            "        [ 8., 10., 12.]])\n",
            "z3:\n",
            " tensor([[0.5000, 1.0000, 1.5000],\n",
            "        [2.0000, 2.5000, 3.0000]])\n",
            "z4:\n",
            " tensor([[ 1.,  4.,  9.],\n",
            "        [16., 25., 36.]])\n",
            "z5:\n",
            " tensor([[ 4., 10., 18.],\n",
            "        [ 4., 10., 18.]])\n",
            "z6:\n",
            " tensor([[2., 4., 6.],\n",
            "        [5., 7., 9.]])\n",
            "z7:\n",
            " tensor([[2., 3., 4.],\n",
            "        [6., 7., 8.]])\n",
            "z8:\n",
            " tensor([[  2.7183,   7.3891,  20.0855],\n",
            "        [ 54.5981, 148.4132, 403.4288]])\n",
            "z9:\n",
            " tensor([[0.0000, 0.6931, 1.0986],\n",
            "        [1.3863, 1.6094, 1.7918]])\n",
            "z10:\n",
            " tensor([[1.0000, 1.4142, 1.7321],\n",
            "        [2.0000, 2.2361, 2.4495]])\n",
            "z11:\n",
            " tensor([[  2.7183,   7.3891,  20.0855],\n",
            "        [ 54.5981, 148.4132, 403.4288]])\n",
            "z12:\n",
            " tensor([[0.0000, 0.6931, 1.0986],\n",
            "        [1.3863, 1.6094, 1.7918]])\n",
            "z13:\n",
            " tensor([[1.0000, 1.4142, 1.7321],\n",
            "        [2.0000, 2.2361, 2.4495]])\n"
          ],
          "name": "stdout"
        }
      ]
    },
    {
      "cell_type": "markdown",
      "metadata": {
        "id": "IateQKdDPlkN"
      },
      "source": [
        "### Problem 3.1"
      ]
    },
    {
      "cell_type": "markdown",
      "metadata": {
        "id": "3JqBF2ospec8"
      },
      "source": [
        "Write a function **gram_matrix** that takes a matrix $A = (a_1| \\dots | a_n)$ and returns the matrix of size $n\\times n$ $\\quad\n",
        "\\begin{pmatrix}\n",
        "a_1^Ta_1 & a_1^Ta_2 & \\dots & a_1^Ta_n \\\\\n",
        "a_2^Ta_1 & a_2^Ta_2 & \\dots & a_2^Ta_n \\\\\n",
        "\\vdots & \\vdots & \\ddots & \\vdots \\\\\n",
        "a_n^Ta_1 & a_n^Ta_2 & \\dots & a_n^Ta_n\n",
        "\\end{pmatrix}\n",
        "$ with type *float torch.Tensor*. "
      ]
    },
    {
      "cell_type": "code",
      "metadata": {
        "id": "4D_wQ3WDLVAW"
      },
      "source": [
        "def gram_matrix(A):\n",
        "    return A.T.matmul(A)"
      ],
      "execution_count": 295,
      "outputs": []
    },
    {
      "cell_type": "code",
      "metadata": {
        "colab": {
          "base_uri": "https://localhost:8080/"
        },
        "id": "P-k6LQsOLU28",
        "outputId": "4d769e2f-9232-4b2e-de98-37f32475dd75"
      },
      "source": [
        "# Test 1\n",
        "output = gram_matrix(torch.tensor([[1, 2], [1, 2]], dtype=torch.float))\n",
        "correct = torch.tensor(\n",
        "    [[2., 4.],\n",
        "    [4., 8.]], \n",
        "    dtype=torch.float\n",
        ")\n",
        "validate_solution(output, correct, test_num=1)\n",
        "\n",
        "# Test 2\n",
        "output = gram_matrix(torch.tensor([[1, 2, 3], [1, 2, 3]], dtype=torch.float))\n",
        "correct = torch.tensor(\n",
        "    [[ 2.,  4.,  6.],\n",
        "    [ 4.,  8., 12.],\n",
        "    [ 6., 12., 18.]], \n",
        "    dtype=torch.float\n",
        ")\n",
        "validate_solution(output, correct, test_num=2)"
      ],
      "execution_count": 296,
      "outputs": [
        {
          "output_type": "stream",
          "text": [
            "Test 1 passed!\n",
            "Test 2 passed!\n"
          ],
          "name": "stdout"
        }
      ]
    },
    {
      "cell_type": "markdown",
      "metadata": {
        "id": "om6ggpwrPqHD"
      },
      "source": [
        "### Problem 3.2"
      ]
    },
    {
      "cell_type": "markdown",
      "metadata": {
        "id": "dCoRrzu5qCA3"
      },
      "source": [
        "Write a function **increment_diag_decrement_off_diag** that takes a matrix $A = \\begin{pmatrix}\n",
        "a_{11} & a_{11} & \\dots & a_{1n} \\\\\n",
        "a_{21} & a_{22} & \\dots & a_{2n} \\\\\n",
        "\\vdots & \\vdots & \\ddots & \\vdots \\\\\n",
        "a_{m1} & a_{n2} & \\dots & a_{mn}\n",
        "\\end{pmatrix}$ and returns the matrix $\\quad\n",
        "\\begin{pmatrix}\n",
        "a_{11} + 1 & a_{11} - 1 & \\dots & a_{1n} - 1 \\\\\n",
        "a_{21} - 1 & a_{22} + 1 & \\dots & a_{2n} - 1 \\\\\n",
        "\\vdots & \\vdots & \\ddots & \\vdots \\\\\n",
        "a_{m1} - 1 & a_{n2} - 1 & \\dots & a_{mn} + 1\n",
        "\\end{pmatrix}\n",
        "$ with type *float torch.Tensor*. "
      ]
    },
    {
      "cell_type": "code",
      "metadata": {
        "id": "hEEkOUJVNIeI"
      },
      "source": [
        "def increment_diag_decrement_off_diag(A):\n",
        "  A -=1\n",
        "  A[torch.arange(A.shape[0]), torch.arange(A.shape[1])] +=2\n",
        "  return A"
      ],
      "execution_count": 297,
      "outputs": []
    },
    {
      "cell_type": "code",
      "metadata": {
        "colab": {
          "base_uri": "https://localhost:8080/"
        },
        "id": "hRjoqSHZNIYP",
        "outputId": "a43e0574-9aeb-4cc4-fca8-825dc5a7266c"
      },
      "source": [
        "# Test 1\n",
        "output = increment_diag_decrement_off_diag(torch.ones(2, 2))\n",
        "correct = torch.tensor(\n",
        "    [[2., 0.],\n",
        "    [0., 2.]], \n",
        "    dtype=torch.float\n",
        ")\n",
        "validate_solution(output, correct, test_num=1)\n",
        "\n",
        "# Test 2\n",
        "output = increment_diag_decrement_off_diag(\n",
        "    torch.tensor([[1, 2, 3], [1, 2, 3], [1, 2, 3]], dtype=torch.float)\n",
        ")\n",
        "correct = torch.tensor(\n",
        "    [[2., 1., 2.],\n",
        "    [0., 3., 2.],\n",
        "    [0., 1., 4.]], \n",
        "    dtype=torch.float\n",
        ")\n",
        "validate_solution(output, correct, test_num=2)"
      ],
      "execution_count": 298,
      "outputs": [
        {
          "output_type": "stream",
          "text": [
            "Test 1 passed!\n",
            "Test 2 passed!\n"
          ],
          "name": "stdout"
        }
      ]
    },
    {
      "cell_type": "markdown",
      "metadata": {
        "id": "KiPaoGYjPr8Q"
      },
      "source": [
        "### Problem 3.3"
      ]
    },
    {
      "cell_type": "markdown",
      "metadata": {
        "id": "gyvSrmWHrGkA"
      },
      "source": [
        "Write a function **exp_diag_log_off_diag** that takes a matrix $A = \\begin{pmatrix}\n",
        "a_{11} & a_{11} & \\dots & a_{1n} \\\\\n",
        "a_{21} & a_{22} & \\dots & a_{2n} \\\\\n",
        "\\vdots & \\vdots & \\ddots & \\vdots \\\\\n",
        "a_{m1} & a_{n2} & \\dots & a_{mn}\n",
        "\\end{pmatrix}$ and returns the matrix $\\quad\n",
        "\\begin{pmatrix}\n",
        "\\exp a_{11} & \\log a_{11} & \\dots & \\log a_{1n} \\\\\n",
        "\\log a_{21} & \\exp a_{22} & \\dots & \\log a_{2n} \\\\\n",
        "\\vdots & \\vdots & \\ddots & \\vdots \\\\\n",
        "\\log a_{m1} & \\log a_{n2} & \\dots & \\exp a_{mn}\n",
        "\\end{pmatrix}\n",
        "$ with type *float torch.Tensor*. "
      ]
    },
    {
      "cell_type": "code",
      "metadata": {
        "id": "qwX2ZZnqNgQv"
      },
      "source": [
        "def exp_diag_log_off_diag(A):\n",
        "    A = torch.log(A)\n",
        "    A[torch.arange(A.shape[0]), torch.arange(A.shape[1])] = torch.exp(A[torch.arange(A.shape[0]), torch.arange(A.shape[1])])\n",
        "    A[torch.arange(A.shape[0]), torch.arange(A.shape[1])] = torch.exp(A[torch.arange(A.shape[0]), torch.arange(A.shape[1])])\n",
        "    return A"
      ],
      "execution_count": 299,
      "outputs": []
    },
    {
      "cell_type": "code",
      "metadata": {
        "colab": {
          "base_uri": "https://localhost:8080/"
        },
        "id": "oCmOgL5CNgI3",
        "outputId": "b15dfa2c-2cc7-40d2-809d-a2c0b20148b4"
      },
      "source": [
        "# Test 1\n",
        "output = exp_diag_log_off_diag(torch.ones(2, 2))\n",
        "correct = torch.tensor(\n",
        "    [[2.7183, 0.0000],\n",
        "    [0.0000, 2.7183]], \n",
        "    dtype=torch.float\n",
        ")\n",
        "validate_solution(output, correct, test_num=1)\n",
        "\n",
        "# Test 2\n",
        "output = exp_diag_log_off_diag(\n",
        "    torch.tensor([[1, 2, 3], [1, 2, 3], [1, 2, 3]], dtype=torch.float)\n",
        ")\n",
        "correct = torch.tensor(\n",
        "    [[ 2.7183,  0.6931,  1.0986],\n",
        "    [ 0.0000,  7.3891,  1.0986],\n",
        "    [ 0.0000,  0.6931, 20.0855]], \n",
        "    dtype=torch.float\n",
        ")\n",
        "validate_solution(output, correct, test_num=2)"
      ],
      "execution_count": 300,
      "outputs": [
        {
          "output_type": "stream",
          "text": [
            "Test 1 passed!\n",
            "Test 2 passed!\n"
          ],
          "name": "stdout"
        }
      ]
    },
    {
      "cell_type": "markdown",
      "metadata": {
        "id": "XYFMxt80PtWn"
      },
      "source": [
        "### Problem 3.4 (you can use one for/while loop)"
      ]
    },
    {
      "cell_type": "markdown",
      "metadata": {
        "id": "EROCl4p1rffo"
      },
      "source": [
        "Write the function **exp_matrix** that takes a matrix $A$ and a number $n$ and returns the matrix $B = \\sum\\limits_{i=0}^n \\dfrac{A^i}{i!}$. "
      ]
    },
    {
      "cell_type": "code",
      "metadata": {
        "id": "HeqN9PwjNxcI"
      },
      "source": [
        "def exp_matrix(A, n):\n",
        "  B = torch.eye(A.shape[0])\n",
        "  result = 0\n",
        "  for i in range(0, n + 1):\n",
        "    result += B / np.math.factorial(i)\n",
        "    B = A.matmul(B)\n",
        "  return result\n"
      ],
      "execution_count": 301,
      "outputs": []
    },
    {
      "cell_type": "code",
      "metadata": {
        "colab": {
          "base_uri": "https://localhost:8080/"
        },
        "id": "aE1EaAggNxXW",
        "outputId": "38311276-c8fe-4669-bb51-e387da287920"
      },
      "source": [
        "# Test 1\n",
        "output = exp_matrix(torch.diag(torch.tensor([1, 2], dtype=torch.float)), 5)\n",
        "correct = torch.tensor(\n",
        "    [[2.7167, 0.0000],\n",
        "    [0.0000, 7.2667]], \n",
        "    dtype=torch.float\n",
        ")\n",
        "validate_solution(output, correct, test_num=1)\n",
        "\n",
        "# Test 2\n",
        "output = exp_matrix(torch.ones(2, 2), 5)\n",
        "correct = torch.tensor(\n",
        "    [[4.1333, 3.1333],\n",
        "    [3.1333, 4.1333]], \n",
        "    dtype=torch.float\n",
        ")\n",
        "validate_solution(output, correct, test_num=2)\n",
        "\n",
        "# Test 3\n",
        "output = exp_matrix(\n",
        "    torch.tensor([[1, 2, 3], [1, 2, 3], [1, 2, 3]], dtype=torch.float), 5\n",
        ")\n",
        "correct = torch.tensor(\n",
        "    [[30.8000, 59.6000, 89.4000],\n",
        "    [29.8000, 60.6000, 89.4000],\n",
        "    [29.8000, 59.6000, 90.4000]], \n",
        "    dtype=torch.float\n",
        ")\n",
        "validate_solution(output, correct, test_num=3)"
      ],
      "execution_count": 302,
      "outputs": [
        {
          "output_type": "stream",
          "text": [
            "Test 1 passed!\n",
            "Test 2 passed!\n",
            "Test 3 passed!\n"
          ],
          "name": "stdout"
        }
      ]
    },
    {
      "cell_type": "markdown",
      "metadata": {
        "id": "UwXi1G7JPvk2"
      },
      "source": [
        "### Problem 3.5 (you can use two for/while loops but not nested!)"
      ]
    },
    {
      "cell_type": "markdown",
      "metadata": {
        "id": "FFkcoz2or5rT"
      },
      "source": [
        "Write the function **binom_matrix** that takes two matrices $A, B$ and a number $n$ and calculates the matrix $C = (A + B)^n$ using the formula $(A + B)^n = \\sum\\limits_{i=0}^n C^i_nA^iB^{n - i}$ assuming that $AB = BA$. "
      ]
    },
    {
      "cell_type": "code",
      "metadata": {
        "id": "0eBNoM4_OU7Z"
      },
      "source": [
        "def binom_matrix(A, B, n):\n",
        "  a_matrix = torch.eye(A.shape[1])\n",
        "  b_matrix = torch.eye(B.shape[0])\n",
        "  a_degrees = torch.tensor(a_matrix)\n",
        "  b_degrees = torch.tensor(b_matrix)\n",
        "  for i in range(1, n + 1):\n",
        "    a_matrix = A.matmul(a_matrix)\n",
        "    b_matrix = B.matmul(b_matrix)\n",
        "    a_degrees = torch.cat([a_degrees, torch.tensor(a_matrix)], dim = 0)\n",
        "    b_degrees = torch.cat([torch.tensor(b_matrix), b_degrees], dim = 0)\n",
        "\n",
        "  result = 0\n",
        "  for i in range(0, (n + 1)*A.shape[0], A.shape[0]):\n",
        "      result += a_degrees[i : A.shape[0] + i , ...].matmul(b_degrees[i:A.shape[0] + i,...]) * np.math.factorial(n) / np.math.factorial(i / A.shape[0]) / np.math.factorial(n - i / A.shape[0]) \n",
        "  \n",
        "  return result"
      ],
      "execution_count": 436,
      "outputs": []
    },
    {
      "cell_type": "code",
      "metadata": {
        "colab": {
          "base_uri": "https://localhost:8080/"
        },
        "id": "3zqWxy5gUF4e",
        "outputId": "689a4bd8-34b6-43b8-8abe-deb4935f1b24"
      },
      "source": [
        "A = torch.ones(3, 3)\n",
        "B = torch.diag(torch.tensor([3, 3, 3], dtype=torch.float))\n",
        "output = binom_matrix(A, B, 5)"
      ],
      "execution_count": 437,
      "outputs": [
        {
          "output_type": "stream",
          "text": [
            "/usr/local/lib/python3.7/dist-packages/ipykernel_launcher.py:4: UserWarning: To copy construct from a tensor, it is recommended to use sourceTensor.clone().detach() or sourceTensor.clone().detach().requires_grad_(True), rather than torch.tensor(sourceTensor).\n",
            "  after removing the cwd from sys.path.\n",
            "/usr/local/lib/python3.7/dist-packages/ipykernel_launcher.py:5: UserWarning: To copy construct from a tensor, it is recommended to use sourceTensor.clone().detach() or sourceTensor.clone().detach().requires_grad_(True), rather than torch.tensor(sourceTensor).\n",
            "  \"\"\"\n",
            "/usr/local/lib/python3.7/dist-packages/ipykernel_launcher.py:9: UserWarning: To copy construct from a tensor, it is recommended to use sourceTensor.clone().detach() or sourceTensor.clone().detach().requires_grad_(True), rather than torch.tensor(sourceTensor).\n",
            "  if __name__ == '__main__':\n",
            "/usr/local/lib/python3.7/dist-packages/ipykernel_launcher.py:10: UserWarning: To copy construct from a tensor, it is recommended to use sourceTensor.clone().detach() or sourceTensor.clone().detach().requires_grad_(True), rather than torch.tensor(sourceTensor).\n",
            "  # Remove the CWD from sys.path while we load stuff.\n"
          ],
          "name": "stderr"
        }
      ]
    },
    {
      "cell_type": "code",
      "metadata": {
        "colab": {
          "base_uri": "https://localhost:8080/"
        },
        "id": "nqD_YPJ5OU3U",
        "outputId": "27d8e72a-a4c6-4876-e456-80d2bed56764"
      },
      "source": [
        "# Test 1\n",
        "A = torch.diag(torch.tensor([2, 2], dtype=torch.float))\n",
        "B = torch.tensor([[1, 2], [2, 1]], dtype=torch.float)\n",
        "output = binom_matrix(A, B, 2)\n",
        "correct = torch.tensor(\n",
        "    [[13., 12.],\n",
        "    [12., 13.]], \n",
        "    dtype=torch.float\n",
        ")\n",
        "validate_solution(output, correct, test_num=1)\n",
        "\n",
        "# Test 2\n",
        "A = torch.ones(3, 3)\n",
        "B = torch.diag(torch.tensor([3, 3, 3], dtype=torch.float))\n",
        "output = binom_matrix(A, B, 5)\n",
        "correct = torch.tensor(\n",
        "    [[2754., 2511., 2511.],\n",
        "    [2511., 2754., 2511.],\n",
        "    [2511., 2511., 2754.]], \n",
        "    dtype=torch.float\n",
        ")\n",
        "validate_solution(output, correct, test_num=2)"
      ],
      "execution_count": 438,
      "outputs": [
        {
          "output_type": "stream",
          "text": [
            "Test 1 passed!\n",
            "Test 2 passed!\n"
          ],
          "name": "stdout"
        },
        {
          "output_type": "stream",
          "text": [
            "/usr/local/lib/python3.7/dist-packages/ipykernel_launcher.py:4: UserWarning: To copy construct from a tensor, it is recommended to use sourceTensor.clone().detach() or sourceTensor.clone().detach().requires_grad_(True), rather than torch.tensor(sourceTensor).\n",
            "  after removing the cwd from sys.path.\n",
            "/usr/local/lib/python3.7/dist-packages/ipykernel_launcher.py:5: UserWarning: To copy construct from a tensor, it is recommended to use sourceTensor.clone().detach() or sourceTensor.clone().detach().requires_grad_(True), rather than torch.tensor(sourceTensor).\n",
            "  \"\"\"\n",
            "/usr/local/lib/python3.7/dist-packages/ipykernel_launcher.py:9: UserWarning: To copy construct from a tensor, it is recommended to use sourceTensor.clone().detach() or sourceTensor.clone().detach().requires_grad_(True), rather than torch.tensor(sourceTensor).\n",
            "  if __name__ == '__main__':\n",
            "/usr/local/lib/python3.7/dist-packages/ipykernel_launcher.py:10: UserWarning: To copy construct from a tensor, it is recommended to use sourceTensor.clone().detach() or sourceTensor.clone().detach().requires_grad_(True), rather than torch.tensor(sourceTensor).\n",
            "  # Remove the CWD from sys.path while we load stuff.\n"
          ],
          "name": "stderr"
        }
      ]
    },
    {
      "cell_type": "markdown",
      "metadata": {
        "id": "b8kA7LkiPxcl"
      },
      "source": [
        "### Problem 3.6 (you can use one for/while loop)"
      ]
    },
    {
      "cell_type": "markdown",
      "metadata": {
        "id": "sw_QXrzssZPx"
      },
      "source": [
        "Write a function **vandermonde_matrix** that takes a vector $x = (x_1, \\dots, x_n)$ and returns the Vandermonde matrix $\\quad\n",
        "\\begin{pmatrix}\n",
        "1 & x_1 & x_1^2 & \\dots & x_1^{n-1} \\\\\n",
        "1 & x_2 & x_2^2 & \\dots & x_2^{n-1} \\\\\n",
        "\\vdots & \\vdots & \\ddots & \\vdots \\\\\n",
        "1 & x_n & x_n^2 & \\dots & x_n^{n-1}\n",
        "\\end{pmatrix}\n",
        "$ with type *float torch.Tensor*. "
      ]
    },
    {
      "cell_type": "code",
      "metadata": {
        "id": "hdwf-kPem018"
      },
      "source": [
        "def vandermonde_matrix(x):\n",
        "    van = torch.ones((x.shape[0], 1))\n",
        "    x = x.reshape((x.shape[0], 1))\n",
        "    for i in range(1, x.shape[0]):\n",
        "      van = torch.cat([van, x**i], dim = 1)\n",
        "    return van"
      ],
      "execution_count": 247,
      "outputs": []
    },
    {
      "cell_type": "code",
      "metadata": {
        "colab": {
          "base_uri": "https://localhost:8080/"
        },
        "id": "N52QglxMO1Q8",
        "outputId": "fa5491fe-3f6d-47ce-daf9-7dceaf78c0df"
      },
      "source": [
        "# Test 1\n",
        "output = vandermonde_matrix(torch.tensor([1, 2], dtype=torch.float))\n",
        "correct = torch.tensor(\n",
        "    [[1., 1.],\n",
        "    [1., 2.]], \n",
        "    dtype=torch.float\n",
        ")\n",
        "validate_solution(output, correct, test_num=1)\n",
        "\n",
        "# Test 2\n",
        "output = vandermonde_matrix(torch.tensor([1, 2, 3], dtype=torch.float))\n",
        "correct = torch.tensor(\n",
        "    [[1., 1., 1.],\n",
        "    [1., 2., 4.],\n",
        "    [1., 3., 9.]], \n",
        "    dtype=torch.float\n",
        ")\n",
        "validate_solution(output, correct, test_num=2)"
      ],
      "execution_count": 250,
      "outputs": [
        {
          "output_type": "stream",
          "text": [
            "Test 1 passed!\n",
            "Test 2 passed!\n"
          ],
          "name": "stdout"
        }
      ]
    },
    {
      "cell_type": "markdown",
      "metadata": {
        "id": "EkIZfsXCQ-zC"
      },
      "source": [
        "## 4. Advanced Operations on Tensors"
      ]
    },
    {
      "cell_type": "markdown",
      "metadata": {
        "id": "SihSY29SsJCR"
      },
      "source": [
        "### Aggregating operations"
      ]
    },
    {
      "cell_type": "code",
      "metadata": {
        "colab": {
          "base_uri": "https://localhost:8080/"
        },
        "id": "4icLPKHBbTq3",
        "outputId": "db70974c-0e17-42e8-e7bc-8b9a8c887c7c"
      },
      "source": [
        "# You can compute different operations (sum, min, max, etc.) along some axes or along all matrix.\n",
        "x = torch.tensor([[1, 2, 3], [4, 5, 6]], dtype=torch.float)\n",
        "\n",
        "z1 = x.sum()\n",
        "z2 = x.sum(dim=0)\n",
        "z3 = x.sum(dim=1)\n",
        "\n",
        "z4 = x.min()\n",
        "z5 = x.min(dim=0)\n",
        "z6 = x.min(dim=1)\n",
        "\n",
        "print(\"z1:\\n\", z1)\n",
        "print(\"z2:\\n\", z2)\n",
        "print(\"z3:\\n\", z3)\n",
        "print(\"z4:\\n\", z4)\n",
        "print(\"z5:\\n\", z5)\n",
        "print(\"z6:\\n\", z6)"
      ],
      "execution_count": 305,
      "outputs": [
        {
          "output_type": "stream",
          "text": [
            "z1:\n",
            " tensor(21.)\n",
            "z2:\n",
            " tensor([5., 7., 9.])\n",
            "z3:\n",
            " tensor([ 6., 15.])\n",
            "z4:\n",
            " tensor(1.)\n",
            "z5:\n",
            " torch.return_types.min(\n",
            "values=tensor([1., 2., 3.]),\n",
            "indices=tensor([0, 0, 0]))\n",
            "z6:\n",
            " torch.return_types.min(\n",
            "values=tensor([1., 4.]),\n",
            "indices=tensor([0, 0]))\n"
          ],
          "name": "stdout"
        }
      ]
    },
    {
      "cell_type": "markdown",
      "metadata": {
        "id": "bDeK6D8mq8qN"
      },
      "source": [
        "### Problem 4.1"
      ]
    },
    {
      "cell_type": "markdown",
      "metadata": {
        "id": "U1ZPAhgPtDIj"
      },
      "source": [
        "Write a function **frobenius_norm** that takes a matrix $A$ and return the Frobenius norm of this matrix using the formula $\\|A\\|_F = \\sqrt{\\sum\\limits_{ij} a_{ij}^2}$. "
      ]
    },
    {
      "cell_type": "code",
      "metadata": {
        "id": "vtUqAhVaRErS"
      },
      "source": [
        "def frobenius_norm(A):\n",
        "    return torch.sqrt((A**2).sum())"
      ],
      "execution_count": 306,
      "outputs": []
    },
    {
      "cell_type": "code",
      "metadata": {
        "colab": {
          "base_uri": "https://localhost:8080/"
        },
        "id": "XQEuEPlTREoH",
        "outputId": "48c83143-bf57-4222-cc9e-d4ab51395139"
      },
      "source": [
        "# Test 1\n",
        "output = frobenius_norm(torch.ones(2, 2))\n",
        "correct = torch.tensor(2, dtype=torch.float)\n",
        "validate_solution(output, correct, test_num=1)\n",
        "\n",
        "# Test 2\n",
        "output = frobenius_norm(torch.tensor([[1, 2, 3], [4, 5, 6]], dtype=torch.float))\n",
        "correct = torch.tensor(9.5394,  dtype=torch.float)\n",
        "validate_solution(output, correct, test_num=2)"
      ],
      "execution_count": 307,
      "outputs": [
        {
          "output_type": "stream",
          "text": [
            "Test 1 passed!\n",
            "Test 2 passed!\n"
          ],
          "name": "stdout"
        }
      ]
    },
    {
      "cell_type": "markdown",
      "metadata": {
        "id": "jSj6cxgQrApZ"
      },
      "source": [
        "### Problem 4.2"
      ]
    },
    {
      "cell_type": "markdown",
      "metadata": {
        "id": "wfZYRXqJta8-"
      },
      "source": [
        "Write a function **l1_norm** that takes a matrix $A$ and return the L1 norm of this matrix using the formula $\\|A\\|_1 = \\max\\limits_i\\sum\\limits_{j} |a_{ij}|$. "
      ]
    },
    {
      "cell_type": "code",
      "metadata": {
        "id": "jCHFL4hHRwbs"
      },
      "source": [
        "def l1_norm(A):\n",
        "    return A.abs().sum(dim = 1).max()"
      ],
      "execution_count": 308,
      "outputs": []
    },
    {
      "cell_type": "code",
      "metadata": {
        "colab": {
          "base_uri": "https://localhost:8080/"
        },
        "id": "twntZfwvRyH0",
        "outputId": "f23d346b-3314-425e-8503-0e389cbee78c"
      },
      "source": [
        "# Test 1\n",
        "output = l1_norm(torch.ones(2, 2))\n",
        "correct = torch.tensor(2, dtype=torch.float)\n",
        "validate_solution(output, correct, test_num=1)\n",
        "\n",
        "# Test 2\n",
        "output = l1_norm(torch.tensor([[1, 2, 3], [4, 5, 6]], dtype=torch.float))\n",
        "correct = torch.tensor(15.,  dtype=torch.float)\n",
        "validate_solution(output, correct, test_num=2)"
      ],
      "execution_count": 309,
      "outputs": [
        {
          "output_type": "stream",
          "text": [
            "Test 1 passed!\n",
            "Test 2 passed!\n"
          ],
          "name": "stdout"
        }
      ]
    },
    {
      "cell_type": "markdown",
      "metadata": {
        "id": "UlkJlOqbrCRy"
      },
      "source": [
        "### Problem 4.3"
      ]
    },
    {
      "cell_type": "markdown",
      "metadata": {
        "id": "S89O79bft3jh"
      },
      "source": [
        "Write a function **l_inf_norm** that takes a matrix $A$ and return the L-infinum norm of this matrix using the formula $\\|A\\|_{\\infty} = \\max\\limits_j\\sum\\limits_{i} |a_{ij}|$. "
      ]
    },
    {
      "cell_type": "code",
      "metadata": {
        "id": "N-Of3sEDR9BX"
      },
      "source": [
        "def l_inf_norm(A):\n",
        "    return A.abs().sum(dim = 0).max()"
      ],
      "execution_count": 310,
      "outputs": []
    },
    {
      "cell_type": "code",
      "metadata": {
        "colab": {
          "base_uri": "https://localhost:8080/"
        },
        "id": "WncF3QmoR87z",
        "outputId": "39aa5863-b5cf-43fd-86c3-451702cfe545"
      },
      "source": [
        "# Test 1\n",
        "output = l_inf_norm(torch.ones(2, 2))\n",
        "correct = torch.tensor(2, dtype=torch.float)\n",
        "validate_solution(output, correct, test_num=1)\n",
        "\n",
        "# Test 2\n",
        "output = l_inf_norm(torch.tensor([[1, 2, 3], [4, 5, 6]], dtype=torch.float))\n",
        "correct = torch.tensor(9.,  dtype=torch.float)\n",
        "validate_solution(output, correct, test_num=2)"
      ],
      "execution_count": 311,
      "outputs": [
        {
          "output_type": "stream",
          "text": [
            "Test 1 passed!\n",
            "Test 2 passed!\n"
          ],
          "name": "stdout"
        }
      ]
    },
    {
      "cell_type": "markdown",
      "metadata": {
        "id": "3gJhaSx6rD2Z"
      },
      "source": [
        "### Problem 4.4 ((you can use two for/while loops but not nested!)"
      ]
    },
    {
      "cell_type": "markdown",
      "metadata": {
        "id": "Aoc1BLnUuSQg"
      },
      "source": [
        "Write a function **saddle_point** that takes a matrix $A$ and returns the list of pairs $[(i_1, j_1), \\dots, (i_n, j_n)]$ such that for each pair $(i_k, j_k)$ the corresponding element $a_{i_kj_k}$ of the matrix $A$ satifies two conditions $a_{i_kj_k} = \\min\\limits_j a_{i_kj}$ and $a_{i_kj_k} = \\max\\limits_i a_{ij_k}$. "
      ]
    },
    {
      "cell_type": "code",
      "metadata": {
        "id": "bq8KbUuxSGve"
      },
      "source": [
        "def saddle_point(A):\n",
        "  res = torch.LongTensor()\n",
        "  max_cols = A.max(dim=0).indices\n",
        "  min_rows = A.min(dim = 1).indices\n",
        "  for i in range(len(min_rows)):\n",
        "    if(i == max_cols[min_rows[i]]):\n",
        "      res = torch.cat([res, torch.tensor([[i, min_rows[i]]], dtype=torch.long)])\n",
        "  return res\n"
      ],
      "execution_count": 367,
      "outputs": []
    },
    {
      "cell_type": "code",
      "metadata": {
        "colab": {
          "base_uri": "https://localhost:8080/"
        },
        "id": "3DM7XWJvSGps",
        "outputId": "d0d0f9ca-b058-4470-ae4b-2c50b525633b"
      },
      "source": [
        "# Test 1\n",
        "output = saddle_point(torch.tensor([[1, 1], [3, 2]], dtype=torch.float))\n",
        "correct = torch.tensor([[1, 1]])\n",
        "validate_solution(output, correct, test_num=1)\n",
        "\n",
        "# Test 2\n",
        "output = saddle_point(torch.tensor([[1, 2, 3], [4, 5, 6]], dtype=torch.float))\n",
        "correct = torch.tensor([[1, 0]])\n",
        "validate_solution(output, correct, test_num=2)"
      ],
      "execution_count": 369,
      "outputs": [
        {
          "output_type": "stream",
          "text": [
            "Test 1 passed!\n",
            "Test 2 passed!\n"
          ],
          "name": "stdout"
        }
      ]
    },
    {
      "cell_type": "markdown",
      "metadata": {
        "id": "3q5nNTT9rFvz"
      },
      "source": [
        "### Problem 4.5"
      ]
    },
    {
      "cell_type": "markdown",
      "metadata": {
        "id": "sAN_j-ZPvwoP"
      },
      "source": [
        "Write a function **normalize_columns** that takes a matrix $A = (a_1|\\dots|a_n)$ and return the matrix $B = (\\bar{a}_1|\\dots|\\bar{a}_n)$ where $\\bar{a}_i = \\dfrac{a_i}{\\|a_i\\|_2}$. "
      ]
    },
    {
      "cell_type": "code",
      "metadata": {
        "id": "nZ5jL1FBQ44U"
      },
      "source": [
        "def normalize_columns(A):\n",
        "  x = A.clone()\n",
        "  return A / torch.sqrt((x ** 2).sum(dim = 0))"
      ],
      "execution_count": 380,
      "outputs": []
    },
    {
      "cell_type": "code",
      "metadata": {
        "colab": {
          "base_uri": "https://localhost:8080/"
        },
        "id": "Bg8bX0iDU4_O",
        "outputId": "38c4bd84-054a-40ef-daca-bccda52fef5a"
      },
      "source": [
        "# Test 1\n",
        "output = normalize_columns(torch.tensor([[1, 1], [2, 2]], dtype=torch.float))\n",
        "correct = torch.tensor(\n",
        "    [[0.4472, 0.4472],\n",
        "    [0.8944, 0.8944]], \n",
        "    dtype=torch.float\n",
        ")\n",
        "validate_solution(output, correct, test_num=1)\n",
        "\n",
        "# Test 2\n",
        "output = normalize_columns(torch.tensor([[1, 2, 3], [4, 5, 6]], dtype=torch.float))\n",
        "correct = torch.tensor(\n",
        "    [[0.2425, 0.3714, 0.4472],\n",
        "    [0.9701, 0.9285, 0.8944]],  \n",
        "    dtype=torch.float\n",
        ")\n",
        "validate_solution(output, correct, test_num=2)"
      ],
      "execution_count": 381,
      "outputs": [
        {
          "output_type": "stream",
          "text": [
            "Test 1 passed!\n",
            "Test 2 passed!\n"
          ],
          "name": "stdout"
        }
      ]
    },
    {
      "cell_type": "markdown",
      "metadata": {
        "id": "X6PpQsFisRZX"
      },
      "source": [
        "### Matrix operations"
      ]
    },
    {
      "cell_type": "code",
      "metadata": {
        "id": "2CiT1eD-cJln"
      },
      "source": [
        "# You can compute different characteristics of matrices\n",
        "x = torch.tensor([[1, 2, 3], [0, 5, 6], [0, 0, 9]], dtype=torch.float)\n",
        "\n",
        "print(\"trace:\\n\", x.trace())\n",
        "print(\"det:\\n\", x.det())\n",
        "print(\"inverse:\\n\", torch.inverse(x))"
      ],
      "execution_count": null,
      "outputs": []
    },
    {
      "cell_type": "markdown",
      "metadata": {
        "id": "l7PHw_MsrKKt"
      },
      "source": [
        "### Problem 4.6"
      ]
    },
    {
      "cell_type": "markdown",
      "metadata": {
        "id": "F_GMcb8cwdVu"
      },
      "source": [
        "Write a function **frobenius_norm2** that takes a matrix $A$ and returns the Frobenius norm using the formula $\\|A\\|_F = \\sqrt{\\text{tr}(A^TA)}$. "
      ]
    },
    {
      "cell_type": "code",
      "metadata": {
        "id": "aV4B_D1eWOJu"
      },
      "source": [
        "def frobenius_norm2(A):\n",
        "    return torch.sqrt((A.T.matmul(A)).trace())"
      ],
      "execution_count": 382,
      "outputs": []
    },
    {
      "cell_type": "code",
      "metadata": {
        "colab": {
          "base_uri": "https://localhost:8080/"
        },
        "id": "CnbzzmmWWOB5",
        "outputId": "eb863153-d2c2-49e9-a833-c63937849533"
      },
      "source": [
        "# Test 1\n",
        "output = frobenius_norm2(torch.ones(2, 2))\n",
        "correct = torch.tensor(2, dtype=torch.float)\n",
        "validate_solution(output, correct, test_num=1)\n",
        "\n",
        "# Test 2\n",
        "output = frobenius_norm2(\n",
        "    torch.tensor([[1, 2, 3], [4, 5, 6]], dtype=torch.float)\n",
        ")\n",
        "correct = torch.tensor(9.5394,  dtype=torch.float)\n",
        "validate_solution(output, correct, test_num=2)"
      ],
      "execution_count": 383,
      "outputs": [
        {
          "output_type": "stream",
          "text": [
            "Test 1 passed!\n",
            "Test 2 passed!\n"
          ],
          "name": "stdout"
        }
      ]
    },
    {
      "cell_type": "markdown",
      "metadata": {
        "id": "H5-e-JGkrMFm"
      },
      "source": [
        "### Problem 4.7"
      ]
    },
    {
      "cell_type": "markdown",
      "metadata": {
        "id": "8LVneHJjxBKw"
      },
      "source": [
        "Write a function **l2_distance** that takes two matrices $A, B$ and returns the L2 distance between them using the formula $\\|A - B\\|_F = \\sqrt{\\text{tr}((A - B)^T(A - B))}$. "
      ]
    },
    {
      "cell_type": "code",
      "metadata": {
        "id": "IOP8nXFpWWRM"
      },
      "source": [
        "def l2_distance(A, B):\n",
        "    return torch.sqrt(((A - B).T.matmul(A - B)).trace())"
      ],
      "execution_count": 384,
      "outputs": []
    },
    {
      "cell_type": "code",
      "metadata": {
        "colab": {
          "base_uri": "https://localhost:8080/"
        },
        "id": "vPEM8nohWWOg",
        "outputId": "d749b7cc-fd50-4e2d-a1c2-6c6b8ad45eed"
      },
      "source": [
        "# Test 1\n",
        "A = torch.ones(2, 2)\n",
        "B = torch.tensor([[1, 2], [3, 4]], dtype=torch.float)\n",
        "output = l2_distance(A, B)\n",
        "correct = torch.tensor(3.7417, dtype=torch.float)\n",
        "validate_solution(output, correct, test_num=1)\n",
        "\n",
        "# Test 2\n",
        "A = torch.ones(2, 3)\n",
        "B = torch.tensor([[1, 2, 3], [4, 5, 6]], dtype=torch.float)\n",
        "output = l2_distance(A, B)\n",
        "correct = torch.tensor(7.4162,  dtype=torch.float)\n",
        "validate_solution(output, correct, test_num=2)"
      ],
      "execution_count": 385,
      "outputs": [
        {
          "output_type": "stream",
          "text": [
            "Test 1 passed!\n",
            "Test 2 passed!\n"
          ],
          "name": "stdout"
        }
      ]
    },
    {
      "cell_type": "markdown",
      "metadata": {
        "id": "2LEMKzfLrOWB"
      },
      "source": [
        "### Problem 4.8"
      ]
    },
    {
      "cell_type": "markdown",
      "metadata": {
        "id": "wc2e776gxhjg"
      },
      "source": [
        "Write a function **charac_polynomial** that takes a matrix $A$ and a number $x$ and returns the value of the characteristic polynomial of the matrix $A$ at point $x$, i.e. the value of the function $\\det(A - xE)$. \n",
        "\n"
      ]
    },
    {
      "cell_type": "code",
      "metadata": {
        "id": "RdpM0L67pDPe"
      },
      "source": [
        "def charac_polynomial(A, x):\n",
        "    return (A - x * torch.eye(A.shape[0])).det()"
      ],
      "execution_count": 386,
      "outputs": []
    },
    {
      "cell_type": "code",
      "metadata": {
        "colab": {
          "base_uri": "https://localhost:8080/"
        },
        "id": "aL-pNfNtpDKT",
        "outputId": "d0a4e52d-c894-4e93-9e8d-e84134374adf"
      },
      "source": [
        "# Test 1\n",
        "output = charac_polynomial(torch.ones(2, 2), 1)\n",
        "correct = torch.tensor(-1., dtype=torch.float)\n",
        "validate_solution(output, correct, test_num=1)\n",
        "\n",
        "# Test 2\n",
        "output = charac_polynomial(torch.ones(5, 5), 2)\n",
        "correct = torch.tensor(48.,  dtype=torch.float)\n",
        "validate_solution(output, correct, test_num=2)"
      ],
      "execution_count": 387,
      "outputs": [
        {
          "output_type": "stream",
          "text": [
            "Test 1 passed!\n",
            "Test 2 passed!\n"
          ],
          "name": "stdout"
        }
      ]
    },
    {
      "cell_type": "markdown",
      "metadata": {
        "id": "OoO9S1hArQQX"
      },
      "source": [
        "### Problem 4.9 (you can use one for/while loop)"
      ]
    },
    {
      "cell_type": "markdown",
      "metadata": {
        "id": "tmNPdKLFx9-P"
      },
      "source": [
        "Write a function **vandermonde_det** that takes a vector $x = (x_1, \\dots, x_n)$ and returns the determinant of the Vandermonde matrix \\begin{pmatrix}\n",
        "1 & x_1 & x_1^2 & \\dots & x_1^{n-1} \\\\\n",
        "1 & x_2 & x_2^2 & \\dots & x_2^{n-1} \\\\\n",
        "\\vdots & \\vdots & \\ddots & \\vdots \\\\\n",
        "1 & x_n & x_n^2 & \\dots & x_n^{n-1}\n",
        "\\end{pmatrix}. "
      ]
    },
    {
      "cell_type": "code",
      "metadata": {
        "id": "0IiakLX3pi59"
      },
      "source": [
        "def vandermonde_det(x):\n",
        "    return vandermonde_matrix(x).det()"
      ],
      "execution_count": 388,
      "outputs": []
    },
    {
      "cell_type": "code",
      "metadata": {
        "colab": {
          "base_uri": "https://localhost:8080/"
        },
        "id": "Pi79SUcUpi1a",
        "outputId": "7f40faa0-0f1c-417c-d919-1650a0bbe698"
      },
      "source": [
        "# Test 1\n",
        "output = vandermonde_det(torch.tensor([1, 2], dtype=torch.float))\n",
        "correct = torch.tensor(1., dtype=torch.float)\n",
        "validate_solution(output, correct, test_num=1)\n",
        "\n",
        "# Test 2\n",
        "output = vandermonde_det(torch.tensor([1, 2, 3], dtype=torch.float))\n",
        "correct = torch.tensor(2., dtype=torch.float)\n",
        "validate_solution(output, correct, test_num=2)"
      ],
      "execution_count": 389,
      "outputs": [
        {
          "output_type": "stream",
          "text": [
            "Test 1 passed!\n",
            "Test 2 passed!\n"
          ],
          "name": "stdout"
        }
      ]
    },
    {
      "cell_type": "markdown",
      "metadata": {
        "id": "uxpav0hsrUOT"
      },
      "source": [
        "### Problem 4.10"
      ]
    },
    {
      "cell_type": "markdown",
      "metadata": {
        "id": "j7IfHhZ5ybld"
      },
      "source": [
        "Write a function **generalized_inverse** that takes a matrix $A$ and returns its generalized inverse by the formula $(A^TA)^{-1}A^T$. "
      ]
    },
    {
      "cell_type": "code",
      "metadata": {
        "id": "qCecsHI3cW0q"
      },
      "source": [
        "def generalized_inverse(A):\n",
        "    return torch.inverse((A.T.matmul(A))).matmul(A.T)"
      ],
      "execution_count": 392,
      "outputs": []
    },
    {
      "cell_type": "code",
      "metadata": {
        "id": "nixgyPcE4ssj",
        "colab": {
          "base_uri": "https://localhost:8080/"
        },
        "outputId": "f98935a4-f162-456d-db6c-6f77cc6482f9"
      },
      "source": [
        "# Test 1\n",
        "output = generalized_inverse(torch.tensor([[1], [2]], dtype=torch.float))\n",
        "correct = torch.tensor([[0.2000, 0.4000]], dtype=torch.float)\n",
        "validate_solution(output, correct, test_num=1)\n",
        "\n",
        "# Test 2\n",
        "output = generalized_inverse(torch.tensor([[1, 2], [3, 4], [5, 6]], dtype=torch.float))\n",
        "correct = torch.tensor(\n",
        "    [[-1.3333, -0.3333,  0.6667],\n",
        "    [ 1.0833,  0.3333, -0.4167]],\n",
        "    dtype=torch.float\n",
        ")\n",
        "validate_solution(output, correct, test_num=2)"
      ],
      "execution_count": 393,
      "outputs": [
        {
          "output_type": "stream",
          "text": [
            "Test 1 passed!\n",
            "Test 2 passed!\n"
          ],
          "name": "stdout"
        }
      ]
    },
    {
      "cell_type": "code",
      "metadata": {
        "id": "t7cvTibvRS9V"
      },
      "source": [
        ""
      ],
      "execution_count": 103,
      "outputs": []
    }
  ]
}